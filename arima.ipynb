{
  "nbformat": 4,
  "nbformat_minor": 0,
  "metadata": {
    "colab": {
      "name": "time_series.ipynb",
      "provenance": [],
      "collapsed_sections": [],
      "include_colab_link": true
    },
    "kernelspec": {
      "name": "python3",
      "display_name": "Python 3"
    },
    "language_info": {
      "name": "python"
    },
    "accelerator": "GPU"
  },
  "cells": [
    {
      "cell_type": "markdown",
      "metadata": {
        "id": "view-in-github",
        "colab_type": "text"
      },
      "source": [
        "<a href=\"https://colab.research.google.com/github/zahraDehghanian97/SCINet/blob/master/arima.ipynb\" target=\"_parent\"><img src=\"https://colab.research.google.com/assets/colab-badge.svg\" alt=\"Open In Colab\"/></a>"
      ]
    },
    {
      "cell_type": "markdown",
      "source": [
        "# **Data Preprocess**"
      ],
      "metadata": {
        "id": "a5d6bSTsBPuU"
      }
    },
    {
      "cell_type": "code",
      "source": [
        "import pandas as pd\n",
        "df = pd.read_csv('/content/MCIRD_aaic2021_train.csv', header=0)\n",
        "df.head()\n"
      ],
      "metadata": {
        "id": "Q1_5mdwjYBLw",
        "colab": {
          "base_uri": "https://localhost:8080/",
          "height": 270
        },
        "outputId": "f1bb4a51-3545-42f4-8e81-206c4217b7c0"
      },
      "execution_count": 1,
      "outputs": [
        {
          "output_type": "execute_result",
          "data": {
            "text/html": [
              "\n",
              "  <div id=\"df-000a6ffd-4c22-4da6-8177-876f53ba2a7a\">\n",
              "    <div class=\"colab-df-container\">\n",
              "      <div>\n",
              "<style scoped>\n",
              "    .dataframe tbody tr th:only-of-type {\n",
              "        vertical-align: middle;\n",
              "    }\n",
              "\n",
              "    .dataframe tbody tr th {\n",
              "        vertical-align: top;\n",
              "    }\n",
              "\n",
              "    .dataframe thead th {\n",
              "        text-align: right;\n",
              "    }\n",
              "</style>\n",
              "<table border=\"1\" class=\"dataframe\">\n",
              "  <thead>\n",
              "    <tr style=\"text-align: right;\">\n",
              "      <th></th>\n",
              "      <th>day</th>\n",
              "      <th>subscriber_ecid</th>\n",
              "      <th>subscriber_gender</th>\n",
              "      <th>subscriber_age</th>\n",
              "      <th>registration_province</th>\n",
              "      <th>months_of_subscription</th>\n",
              "      <th>most_used_province</th>\n",
              "      <th>is_usage_nonzero</th>\n",
              "      <th>subscriber_total_expenses</th>\n",
              "      <th>nonpackage_voice_expenses</th>\n",
              "      <th>package_voice_noncash_expenses</th>\n",
              "      <th>is_voice_expenses_nonzero</th>\n",
              "      <th>is_voice_usage_nonzero</th>\n",
              "      <th>call_in_network_duration</th>\n",
              "      <th>call_off_netwrok_duration</th>\n",
              "      <th>nonpackage_call_in_network_expenses</th>\n",
              "      <th>nonpackage_call_off_network_expenses</th>\n",
              "      <th>total_call_duration</th>\n",
              "      <th>#inter_operator_calls</th>\n",
              "      <th>xyz_score</th>\n",
              "      <th>hxr_score</th>\n",
              "      <th>data_cash_expenses</th>\n",
              "      <th>nonpackage_data_expenses</th>\n",
              "      <th>package_data_noncash_expenses</th>\n",
              "      <th>subscriber_data_expenses</th>\n",
              "      <th>subscriber_nondata_expenses</th>\n",
              "      <th>data_usage_volume</th>\n",
              "      <th>is_data_expenses_nonzero</th>\n",
              "      <th>is_data_usage_nonzero</th>\n",
              "      <th>#activated_monthly_data_packages</th>\n",
              "      <th>#activated_short_term_data_packages</th>\n",
              "      <th>#activated_type_one_data_packages</th>\n",
              "      <th>#activated_type_two_data_packages</th>\n",
              "      <th>#activated_type_three_data_packages</th>\n",
              "    </tr>\n",
              "  </thead>\n",
              "  <tbody>\n",
              "    <tr>\n",
              "      <th>0</th>\n",
              "      <td>(n)01</td>\n",
              "      <td>-06FoayTOXJ8-</td>\n",
              "      <td>1</td>\n",
              "      <td>36.0</td>\n",
              "      <td>8</td>\n",
              "      <td>188</td>\n",
              "      <td>8</td>\n",
              "      <td>1</td>\n",
              "      <td>-0.132373</td>\n",
              "      <td>-0.072802</td>\n",
              "      <td>0.0</td>\n",
              "      <td>1</td>\n",
              "      <td>1</td>\n",
              "      <td>-0.155626</td>\n",
              "      <td>0.0</td>\n",
              "      <td>-0.256454</td>\n",
              "      <td>0.0</td>\n",
              "      <td>-0.220797</td>\n",
              "      <td>0.0</td>\n",
              "      <td>0.031219</td>\n",
              "      <td>38.192862</td>\n",
              "      <td>0.0</td>\n",
              "      <td>0.0</td>\n",
              "      <td>0.0</td>\n",
              "      <td>0.0</td>\n",
              "      <td>-0.104687</td>\n",
              "      <td>0.072258</td>\n",
              "      <td>0</td>\n",
              "      <td>1</td>\n",
              "      <td>0</td>\n",
              "      <td>0</td>\n",
              "      <td>0</td>\n",
              "      <td>0</td>\n",
              "      <td>0</td>\n",
              "    </tr>\n",
              "    <tr>\n",
              "      <th>1</th>\n",
              "      <td>(n)02</td>\n",
              "      <td>-06FoayTOXJ8-</td>\n",
              "      <td>1</td>\n",
              "      <td>36.0</td>\n",
              "      <td>8</td>\n",
              "      <td>188</td>\n",
              "      <td>8</td>\n",
              "      <td>1</td>\n",
              "      <td>-0.122445</td>\n",
              "      <td>-0.060440</td>\n",
              "      <td>0.0</td>\n",
              "      <td>1</td>\n",
              "      <td>1</td>\n",
              "      <td>-0.142857</td>\n",
              "      <td>0.0</td>\n",
              "      <td>0.036145</td>\n",
              "      <td>0.0</td>\n",
              "      <td>-0.210668</td>\n",
              "      <td>0.0</td>\n",
              "      <td>0.033491</td>\n",
              "      <td>38.144232</td>\n",
              "      <td>0.0</td>\n",
              "      <td>0.0</td>\n",
              "      <td>0.0</td>\n",
              "      <td>0.0</td>\n",
              "      <td>-0.092861</td>\n",
              "      <td>0.049563</td>\n",
              "      <td>0</td>\n",
              "      <td>1</td>\n",
              "      <td>0</td>\n",
              "      <td>0</td>\n",
              "      <td>0</td>\n",
              "      <td>0</td>\n",
              "      <td>0</td>\n",
              "    </tr>\n",
              "    <tr>\n",
              "      <th>2</th>\n",
              "      <td>(n)03</td>\n",
              "      <td>-06FoayTOXJ8-</td>\n",
              "      <td>1</td>\n",
              "      <td>36.0</td>\n",
              "      <td>8</td>\n",
              "      <td>188</td>\n",
              "      <td>8</td>\n",
              "      <td>1</td>\n",
              "      <td>0.343066</td>\n",
              "      <td>0.519231</td>\n",
              "      <td>0.0</td>\n",
              "      <td>1</td>\n",
              "      <td>1</td>\n",
              "      <td>0.418196</td>\n",
              "      <td>0.0</td>\n",
              "      <td>0.762478</td>\n",
              "      <td>0.0</td>\n",
              "      <td>0.264686</td>\n",
              "      <td>0.0</td>\n",
              "      <td>0.036831</td>\n",
              "      <td>37.990377</td>\n",
              "      <td>0.0</td>\n",
              "      <td>0.0</td>\n",
              "      <td>0.0</td>\n",
              "      <td>0.0</td>\n",
              "      <td>0.461665</td>\n",
              "      <td>-0.013977</td>\n",
              "      <td>0</td>\n",
              "      <td>0</td>\n",
              "      <td>0</td>\n",
              "      <td>0</td>\n",
              "      <td>0</td>\n",
              "      <td>0</td>\n",
              "      <td>0</td>\n",
              "    </tr>\n",
              "    <tr>\n",
              "      <th>3</th>\n",
              "      <td>(n)04</td>\n",
              "      <td>-06FoayTOXJ8-</td>\n",
              "      <td>1</td>\n",
              "      <td>36.0</td>\n",
              "      <td>8</td>\n",
              "      <td>188</td>\n",
              "      <td>8</td>\n",
              "      <td>1</td>\n",
              "      <td>1.869763</td>\n",
              "      <td>2.420329</td>\n",
              "      <td>0.0</td>\n",
              "      <td>1</td>\n",
              "      <td>1</td>\n",
              "      <td>2.259377</td>\n",
              "      <td>0.0</td>\n",
              "      <td>3.144579</td>\n",
              "      <td>0.0</td>\n",
              "      <td>1.821742</td>\n",
              "      <td>0.0</td>\n",
              "      <td>0.039942</td>\n",
              "      <td>37.777398</td>\n",
              "      <td>0.0</td>\n",
              "      <td>0.0</td>\n",
              "      <td>0.0</td>\n",
              "      <td>0.0</td>\n",
              "      <td>2.280301</td>\n",
              "      <td>0.000403</td>\n",
              "      <td>0</td>\n",
              "      <td>1</td>\n",
              "      <td>0</td>\n",
              "      <td>0</td>\n",
              "      <td>0</td>\n",
              "      <td>0</td>\n",
              "      <td>0</td>\n",
              "    </tr>\n",
              "    <tr>\n",
              "      <th>4</th>\n",
              "      <td>(n)05</td>\n",
              "      <td>-06FoayTOXJ8-</td>\n",
              "      <td>1</td>\n",
              "      <td>36.0</td>\n",
              "      <td>8</td>\n",
              "      <td>188</td>\n",
              "      <td>8</td>\n",
              "      <td>1</td>\n",
              "      <td>-0.233858</td>\n",
              "      <td>-0.199176</td>\n",
              "      <td>0.0</td>\n",
              "      <td>1</td>\n",
              "      <td>1</td>\n",
              "      <td>-0.277733</td>\n",
              "      <td>0.0</td>\n",
              "      <td>-0.137693</td>\n",
              "      <td>0.0</td>\n",
              "      <td>-0.324105</td>\n",
              "      <td>0.0</td>\n",
              "      <td>0.042694</td>\n",
              "      <td>37.545275</td>\n",
              "      <td>0.0</td>\n",
              "      <td>0.0</td>\n",
              "      <td>0.0</td>\n",
              "      <td>0.0</td>\n",
              "      <td>-0.225579</td>\n",
              "      <td>0.016209</td>\n",
              "      <td>0</td>\n",
              "      <td>1</td>\n",
              "      <td>0</td>\n",
              "      <td>0</td>\n",
              "      <td>0</td>\n",
              "      <td>0</td>\n",
              "      <td>0</td>\n",
              "    </tr>\n",
              "  </tbody>\n",
              "</table>\n",
              "</div>\n",
              "      <button class=\"colab-df-convert\" onclick=\"convertToInteractive('df-000a6ffd-4c22-4da6-8177-876f53ba2a7a')\"\n",
              "              title=\"Convert this dataframe to an interactive table.\"\n",
              "              style=\"display:none;\">\n",
              "        \n",
              "  <svg xmlns=\"http://www.w3.org/2000/svg\" height=\"24px\"viewBox=\"0 0 24 24\"\n",
              "       width=\"24px\">\n",
              "    <path d=\"M0 0h24v24H0V0z\" fill=\"none\"/>\n",
              "    <path d=\"M18.56 5.44l.94 2.06.94-2.06 2.06-.94-2.06-.94-.94-2.06-.94 2.06-2.06.94zm-11 1L8.5 8.5l.94-2.06 2.06-.94-2.06-.94L8.5 2.5l-.94 2.06-2.06.94zm10 10l.94 2.06.94-2.06 2.06-.94-2.06-.94-.94-2.06-.94 2.06-2.06.94z\"/><path d=\"M17.41 7.96l-1.37-1.37c-.4-.4-.92-.59-1.43-.59-.52 0-1.04.2-1.43.59L10.3 9.45l-7.72 7.72c-.78.78-.78 2.05 0 2.83L4 21.41c.39.39.9.59 1.41.59.51 0 1.02-.2 1.41-.59l7.78-7.78 2.81-2.81c.8-.78.8-2.07 0-2.86zM5.41 20L4 18.59l7.72-7.72 1.47 1.35L5.41 20z\"/>\n",
              "  </svg>\n",
              "      </button>\n",
              "      \n",
              "  <style>\n",
              "    .colab-df-container {\n",
              "      display:flex;\n",
              "      flex-wrap:wrap;\n",
              "      gap: 12px;\n",
              "    }\n",
              "\n",
              "    .colab-df-convert {\n",
              "      background-color: #E8F0FE;\n",
              "      border: none;\n",
              "      border-radius: 50%;\n",
              "      cursor: pointer;\n",
              "      display: none;\n",
              "      fill: #1967D2;\n",
              "      height: 32px;\n",
              "      padding: 0 0 0 0;\n",
              "      width: 32px;\n",
              "    }\n",
              "\n",
              "    .colab-df-convert:hover {\n",
              "      background-color: #E2EBFA;\n",
              "      box-shadow: 0px 1px 2px rgba(60, 64, 67, 0.3), 0px 1px 3px 1px rgba(60, 64, 67, 0.15);\n",
              "      fill: #174EA6;\n",
              "    }\n",
              "\n",
              "    [theme=dark] .colab-df-convert {\n",
              "      background-color: #3B4455;\n",
              "      fill: #D2E3FC;\n",
              "    }\n",
              "\n",
              "    [theme=dark] .colab-df-convert:hover {\n",
              "      background-color: #434B5C;\n",
              "      box-shadow: 0px 1px 3px 1px rgba(0, 0, 0, 0.15);\n",
              "      filter: drop-shadow(0px 1px 2px rgba(0, 0, 0, 0.3));\n",
              "      fill: #FFFFFF;\n",
              "    }\n",
              "  </style>\n",
              "\n",
              "      <script>\n",
              "        const buttonEl =\n",
              "          document.querySelector('#df-000a6ffd-4c22-4da6-8177-876f53ba2a7a button.colab-df-convert');\n",
              "        buttonEl.style.display =\n",
              "          google.colab.kernel.accessAllowed ? 'block' : 'none';\n",
              "\n",
              "        async function convertToInteractive(key) {\n",
              "          const element = document.querySelector('#df-000a6ffd-4c22-4da6-8177-876f53ba2a7a');\n",
              "          const dataTable =\n",
              "            await google.colab.kernel.invokeFunction('convertToInteractive',\n",
              "                                                     [key], {});\n",
              "          if (!dataTable) return;\n",
              "\n",
              "          const docLinkHtml = 'Like what you see? Visit the ' +\n",
              "            '<a target=\"_blank\" href=https://colab.research.google.com/notebooks/data_table.ipynb>data table notebook</a>'\n",
              "            + ' to learn more about interactive tables.';\n",
              "          element.innerHTML = '';\n",
              "          dataTable['output_type'] = 'display_data';\n",
              "          await google.colab.output.renderOutput(dataTable, element);\n",
              "          const docLink = document.createElement('div');\n",
              "          docLink.innerHTML = docLinkHtml;\n",
              "          element.appendChild(docLink);\n",
              "        }\n",
              "      </script>\n",
              "    </div>\n",
              "  </div>\n",
              "  "
            ],
            "text/plain": [
              "     day  ... #activated_type_three_data_packages\n",
              "0  (n)01  ...                                   0\n",
              "1  (n)02  ...                                   0\n",
              "2  (n)03  ...                                   0\n",
              "3  (n)04  ...                                   0\n",
              "4  (n)05  ...                                   0\n",
              "\n",
              "[5 rows x 34 columns]"
            ]
          },
          "metadata": {},
          "execution_count": 1
        }
      ]
    },
    {
      "cell_type": "code",
      "source": [
        "df1 = df[['subscriber_ecid', 'data_usage_volume']]\n",
        "df1.head()"
      ],
      "metadata": {
        "colab": {
          "base_uri": "https://localhost:8080/",
          "height": 206
        },
        "id": "81fTCpUMaKIh",
        "outputId": "a32904b1-3390-4296-a825-f4fdbc502119"
      },
      "execution_count": 2,
      "outputs": [
        {
          "output_type": "execute_result",
          "data": {
            "text/html": [
              "\n",
              "  <div id=\"df-2576ce07-60d9-40e4-b6a2-1b5e5925881a\">\n",
              "    <div class=\"colab-df-container\">\n",
              "      <div>\n",
              "<style scoped>\n",
              "    .dataframe tbody tr th:only-of-type {\n",
              "        vertical-align: middle;\n",
              "    }\n",
              "\n",
              "    .dataframe tbody tr th {\n",
              "        vertical-align: top;\n",
              "    }\n",
              "\n",
              "    .dataframe thead th {\n",
              "        text-align: right;\n",
              "    }\n",
              "</style>\n",
              "<table border=\"1\" class=\"dataframe\">\n",
              "  <thead>\n",
              "    <tr style=\"text-align: right;\">\n",
              "      <th></th>\n",
              "      <th>subscriber_ecid</th>\n",
              "      <th>data_usage_volume</th>\n",
              "    </tr>\n",
              "  </thead>\n",
              "  <tbody>\n",
              "    <tr>\n",
              "      <th>0</th>\n",
              "      <td>-06FoayTOXJ8-</td>\n",
              "      <td>0.072258</td>\n",
              "    </tr>\n",
              "    <tr>\n",
              "      <th>1</th>\n",
              "      <td>-06FoayTOXJ8-</td>\n",
              "      <td>0.049563</td>\n",
              "    </tr>\n",
              "    <tr>\n",
              "      <th>2</th>\n",
              "      <td>-06FoayTOXJ8-</td>\n",
              "      <td>-0.013977</td>\n",
              "    </tr>\n",
              "    <tr>\n",
              "      <th>3</th>\n",
              "      <td>-06FoayTOXJ8-</td>\n",
              "      <td>0.000403</td>\n",
              "    </tr>\n",
              "    <tr>\n",
              "      <th>4</th>\n",
              "      <td>-06FoayTOXJ8-</td>\n",
              "      <td>0.016209</td>\n",
              "    </tr>\n",
              "  </tbody>\n",
              "</table>\n",
              "</div>\n",
              "      <button class=\"colab-df-convert\" onclick=\"convertToInteractive('df-2576ce07-60d9-40e4-b6a2-1b5e5925881a')\"\n",
              "              title=\"Convert this dataframe to an interactive table.\"\n",
              "              style=\"display:none;\">\n",
              "        \n",
              "  <svg xmlns=\"http://www.w3.org/2000/svg\" height=\"24px\"viewBox=\"0 0 24 24\"\n",
              "       width=\"24px\">\n",
              "    <path d=\"M0 0h24v24H0V0z\" fill=\"none\"/>\n",
              "    <path d=\"M18.56 5.44l.94 2.06.94-2.06 2.06-.94-2.06-.94-.94-2.06-.94 2.06-2.06.94zm-11 1L8.5 8.5l.94-2.06 2.06-.94-2.06-.94L8.5 2.5l-.94 2.06-2.06.94zm10 10l.94 2.06.94-2.06 2.06-.94-2.06-.94-.94-2.06-.94 2.06-2.06.94z\"/><path d=\"M17.41 7.96l-1.37-1.37c-.4-.4-.92-.59-1.43-.59-.52 0-1.04.2-1.43.59L10.3 9.45l-7.72 7.72c-.78.78-.78 2.05 0 2.83L4 21.41c.39.39.9.59 1.41.59.51 0 1.02-.2 1.41-.59l7.78-7.78 2.81-2.81c.8-.78.8-2.07 0-2.86zM5.41 20L4 18.59l7.72-7.72 1.47 1.35L5.41 20z\"/>\n",
              "  </svg>\n",
              "      </button>\n",
              "      \n",
              "  <style>\n",
              "    .colab-df-container {\n",
              "      display:flex;\n",
              "      flex-wrap:wrap;\n",
              "      gap: 12px;\n",
              "    }\n",
              "\n",
              "    .colab-df-convert {\n",
              "      background-color: #E8F0FE;\n",
              "      border: none;\n",
              "      border-radius: 50%;\n",
              "      cursor: pointer;\n",
              "      display: none;\n",
              "      fill: #1967D2;\n",
              "      height: 32px;\n",
              "      padding: 0 0 0 0;\n",
              "      width: 32px;\n",
              "    }\n",
              "\n",
              "    .colab-df-convert:hover {\n",
              "      background-color: #E2EBFA;\n",
              "      box-shadow: 0px 1px 2px rgba(60, 64, 67, 0.3), 0px 1px 3px 1px rgba(60, 64, 67, 0.15);\n",
              "      fill: #174EA6;\n",
              "    }\n",
              "\n",
              "    [theme=dark] .colab-df-convert {\n",
              "      background-color: #3B4455;\n",
              "      fill: #D2E3FC;\n",
              "    }\n",
              "\n",
              "    [theme=dark] .colab-df-convert:hover {\n",
              "      background-color: #434B5C;\n",
              "      box-shadow: 0px 1px 3px 1px rgba(0, 0, 0, 0.15);\n",
              "      filter: drop-shadow(0px 1px 2px rgba(0, 0, 0, 0.3));\n",
              "      fill: #FFFFFF;\n",
              "    }\n",
              "  </style>\n",
              "\n",
              "      <script>\n",
              "        const buttonEl =\n",
              "          document.querySelector('#df-2576ce07-60d9-40e4-b6a2-1b5e5925881a button.colab-df-convert');\n",
              "        buttonEl.style.display =\n",
              "          google.colab.kernel.accessAllowed ? 'block' : 'none';\n",
              "\n",
              "        async function convertToInteractive(key) {\n",
              "          const element = document.querySelector('#df-2576ce07-60d9-40e4-b6a2-1b5e5925881a');\n",
              "          const dataTable =\n",
              "            await google.colab.kernel.invokeFunction('convertToInteractive',\n",
              "                                                     [key], {});\n",
              "          if (!dataTable) return;\n",
              "\n",
              "          const docLinkHtml = 'Like what you see? Visit the ' +\n",
              "            '<a target=\"_blank\" href=https://colab.research.google.com/notebooks/data_table.ipynb>data table notebook</a>'\n",
              "            + ' to learn more about interactive tables.';\n",
              "          element.innerHTML = '';\n",
              "          dataTable['output_type'] = 'display_data';\n",
              "          await google.colab.output.renderOutput(dataTable, element);\n",
              "          const docLink = document.createElement('div');\n",
              "          docLink.innerHTML = docLinkHtml;\n",
              "          element.appendChild(docLink);\n",
              "        }\n",
              "      </script>\n",
              "    </div>\n",
              "  </div>\n",
              "  "
            ],
            "text/plain": [
              "  subscriber_ecid  data_usage_volume\n",
              "0   -06FoayTOXJ8-           0.072258\n",
              "1   -06FoayTOXJ8-           0.049563\n",
              "2   -06FoayTOXJ8-          -0.013977\n",
              "3   -06FoayTOXJ8-           0.000403\n",
              "4   -06FoayTOXJ8-           0.016209"
            ]
          },
          "metadata": {},
          "execution_count": 2
        }
      ]
    },
    {
      "cell_type": "markdown",
      "source": [
        "خیلی از مقادیر دیتاست -0.0139766307813943 این هستن و میشه به راحتی اینارو جایگزین کرد"
      ],
      "metadata": {
        "id": "FIbHY88f-RVu"
      }
    },
    {
      "cell_type": "code",
      "source": [
        "unique_sub_id = set(df1['subscriber_ecid'].values)"
      ],
      "metadata": {
        "id": "fiyCu2I9aLYa"
      },
      "execution_count": 3,
      "outputs": []
    },
    {
      "cell_type": "code",
      "source": [
        "len(unique_sub_id)"
      ],
      "metadata": {
        "colab": {
          "base_uri": "https://localhost:8080/"
        },
        "id": "roCLyU7Ra9vX",
        "outputId": "02d28b24-b95d-4864-de2e-2e70b5e5b77f"
      },
      "execution_count": 4,
      "outputs": [
        {
          "output_type": "execute_result",
          "data": {
            "text/plain": [
              "100"
            ]
          },
          "metadata": {},
          "execution_count": 4
        }
      ]
    },
    {
      "cell_type": "markdown",
      "source": [
        "use just sample with 69 element"
      ],
      "metadata": {
        "id": "-nIr2Z0gAeOK"
      }
    },
    {
      "cell_type": "code",
      "source": [
        "import numpy as np\n",
        "data_list = []\n",
        "for sub_id in unique_sub_id:\n",
        "    # print(sub_id)\n",
        "    temp = df1[df1['subscriber_ecid']==sub_id].values\n",
        "    if temp.shape[0] < 69:\n",
        "        print(temp.shape)\n",
        "        print(sub_id)\n",
        "    else:\n",
        "        data_list.append(temp)"
      ],
      "metadata": {
        "id": "pf0OFb_Oc5Ri",
        "colab": {
          "base_uri": "https://localhost:8080/"
        },
        "outputId": "0247599f-be3b-4ad1-fa0d-0277eded5d56"
      },
      "execution_count": 5,
      "outputs": [
        {
          "output_type": "stream",
          "name": "stdout",
          "text": [
            "(67, 2)\n",
            "-XU6p4P-782mp\n",
            "(53, 2)\n",
            "0T7ixhiDdZ8TL\n",
            "(1, 2)\n",
            "37v4v4PPObMC_\n",
            "(61, 2)\n",
            "0o-xDa8uTNBGu\n",
            "(60, 2)\n",
            "-QXHomYaJxYXi\n",
            "(2, 2)\n",
            "28gWxNYMU_2dg\n",
            "(22, 2)\n",
            "-gjfIaG2oxwzj\n",
            "(68, 2)\n",
            "-DgEYYT0gqMqr\n",
            "(18, 2)\n",
            "1EN04BS-9nKgc\n",
            "(1, 2)\n",
            "32ez6CX89v6KZ\n"
          ]
        }
      ]
    },
    {
      "cell_type": "markdown",
      "source": [
        "data plot"
      ],
      "metadata": {
        "id": "CnZL__b1BDU4"
      }
    },
    {
      "cell_type": "code",
      "source": [
        "import matplotlib.pyplot as plt\n",
        "for j in range(len(data_list)) :\n",
        "  one_sample = data_list[j]\n",
        "  y = one_sample[:,1]\n",
        "  x = []\n",
        "\n",
        "  for i in range(len(one_sample[:,1])):\n",
        "    x.append(i)\n",
        "  plt.plot(x,y)\n",
        "\n",
        "plt.show()"
      ],
      "metadata": {
        "colab": {
          "base_uri": "https://localhost:8080/",
          "height": 265
        },
        "id": "htEgvxLzNxFV",
        "outputId": "e3f9f1b1-2249-4b11-f437-4a8de01ecd41"
      },
      "execution_count": 6,
      "outputs": [
        {
          "output_type": "display_data",
          "data": {
            "image/png": "[encoded data removed]",
            "text/plain": [
              "<Figure size 432x288 with 1 Axes>"
            ]
          },
          "metadata": {
            "needs_background": "light"
          }
        }
      ]
    },
    {
      "cell_type": "markdown",
      "source": [
        "# **ARIMA model**"
      ],
      "metadata": {
        "id": "x8jHeYhHBMS6"
      }
    },
    {
      "cell_type": "code",
      "source": [
        "# from statsmodels.tsa.arima.model import ARIMA\n",
        "from statsmodels.tsa.arima_model import ARIMA\n",
        "from sklearn.metrics import mean_squared_error\n",
        "from matplotlib import pyplot\n",
        "from pandas import DataFrame\n",
        "import warnings\n",
        "from math import sqrt\n",
        "\n",
        "def evaluate_arima_model(arima_order):\n",
        "  final_test = []\n",
        "  final_predict = []\n",
        "  # split into train and test sets\n",
        "  for j in range(len(data_list)):\n",
        "    X = data_list[j]\n",
        "    size = int(len(X) * 0.66)\n",
        "    train, test = X[0:size], X[size:len(X)]\n",
        "    train =(train[:,1])\n",
        "    test = list(test[:,1]+0.00001*np.random.rand(len(test)))\n",
        "    history =list(train+0.00001*np.random.rand(len(train)))\n",
        "    predictions = list()\n",
        "    # model fit\n",
        "    for t in range(len(test)):\n",
        "      model = ARIMA(history, order=arima_order)\n",
        "      model_fit = model.fit(trend='nc', disp=1)\n",
        "      output = model_fit.forecast()\n",
        "      yhat = output[0]\n",
        "      predictions.append(yhat)\n",
        "      obs = test[t]\n",
        "      history.append(obs)\n",
        "      # print('predicted=%f, expected=%f' % (yhat, obs))\n",
        "    final_test.extend(test)\n",
        "    final_predict.extend(predictions)\n",
        "  pyplot.plot(final_test)\n",
        "  pyplot.plot(final_predict, color='red')\n",
        "  pyplot.show()\n",
        "  # evaluate forecasts\n",
        "  rmse = sqrt(mean_squared_error(np.array(final_test), np.array(final_predict)))\n",
        "  print('Test RMSE: %.3f' % rmse)\n",
        "  return rmse\n",
        "\n",
        "\n",
        "# evaluate combinations of p, d and q values for an ARIMA model\n",
        "def evaluate_models( p_values, d_values, q_values):\n",
        "    best_score, best_cfg = float(\"inf\"), None\n",
        "    for p in p_values:\n",
        "        for d in d_values:\n",
        "            for q in q_values:\n",
        "                order = (p, d, q)\n",
        "                \n",
        "                try:\n",
        "                    rmse = evaluate_arima_model(order)\n",
        "                    print(rmse)\n",
        "                    if rmse < best_score:\n",
        "                        best_score, best_cfg = rmse, order\n",
        "                        print(\"best updated!\")\n",
        "                    print('ARIMA%s RMSE=%.3f' % (order, rmse))\n",
        "                except Exception as e: \n",
        "                #     print(e)\n",
        "                    # print(\"error catch in ARIMA\",order)\n",
        "                    continue\n",
        "\n",
        "    print('\\n==============================\\n')\n",
        "    print('Best ARIMA%s RMSE=%.3f' % (best_cfg, best_score))\n",
        "    return best_cfg\n",
        "\n",
        "p_values = range(0, 3)\n",
        "d_values = range(0, 3)\n",
        "q_values = range(0, 3)\n",
        "warnings.filterwarnings(\"ignore\")\n",
        "\n",
        "best_order = evaluate_models( p_values, d_values, q_values)\n"
      ],
      "metadata": {
        "colab": {
          "base_uri": "https://localhost:8080/",
          "height": 1000
        },
        "id": "tWE_o4faYyFA",
        "outputId": "401ddd10-03f5-411a-bc5e-21820e01540c"
      },
      "execution_count": 21,
      "outputs": [
        {
          "output_type": "display_data",
          "data": {
            "image/png": "[encoded data removed]",
            "text/plain": [
              "<Figure size 432x288 with 1 Axes>"
            ]
          },
          "metadata": {
            "needs_background": "light"
          }
        },
        {
          "output_type": "stream",
          "name": "stdout",
          "text": [
            "Test RMSE: 2.590\n",
            "2.5902000928583044\n",
            "best updated!\n",
            "ARIMA(0, 0, 1) RMSE=2.590\n"
          ]
        },
        {
          "output_type": "display_data",
          "data": {
            "image/png": "[encoded data removed]",
            "text/plain": [
              "<Figure size 432x288 with 1 Axes>"
            ]
          },
          "metadata": {
            "needs_background": "light"
          }
        },
        {
          "output_type": "stream",
          "name": "stdout",
          "text": [
            "Test RMSE: 2.035\n",
            "2.0350030065527913\n",
            "best updated!\n",
            "ARIMA(0, 1, 1) RMSE=2.035\n"
          ]
        },
        {
          "output_type": "display_data",
          "data": {
            "image/png": "[encoded data removed]",
            "text/plain": [
              "<Figure size 432x288 with 1 Axes>"
            ]
          },
          "metadata": {
            "needs_background": "light"
          }
        },
        {
          "output_type": "stream",
          "name": "stdout",
          "text": [
            "Test RMSE: 2.411\n",
            "2.4110433060430694\n",
            "ARIMA(0, 2, 1) RMSE=2.411\n"
          ]
        },
        {
          "output_type": "display_data",
          "data": {
            "image/png": "[encoded data removed]",
            "text/plain": [
              "<Figure size 432x288 with 1 Axes>"
            ]
          },
          "metadata": {
            "needs_background": "light"
          }
        },
        {
          "output_type": "stream",
          "name": "stdout",
          "text": [
            "Test RMSE: 2.222\n",
            "2.221669237021542\n",
            "ARIMA(1, 0, 0) RMSE=2.222\n"
          ]
        },
        {
          "output_type": "display_data",
          "data": {
            "image/png": "[encoded data removed]",
            "text/plain": [
              "<Figure size 432x288 with 1 Axes>"
            ]
          },
          "metadata": {
            "needs_background": "light"
          }
        },
        {
          "output_type": "stream",
          "name": "stdout",
          "text": [
            "Test RMSE: 2.209\n",
            "2.2090159681599557\n",
            "ARIMA(1, 1, 0) RMSE=2.209\n"
          ]
        },
        {
          "output_type": "display_data",
          "data": {
            "image/png": "[encoded data removed]",
            "text/plain": [
              "<Figure size 432x288 with 1 Axes>"
            ]
          },
          "metadata": {
            "needs_background": "light"
          }
        },
        {
          "output_type": "stream",
          "name": "stdout",
          "text": [
            "Test RMSE: 3.244\n",
            "3.243658454926183\n",
            "ARIMA(1, 2, 0) RMSE=3.244\n",
            "\n",
            "==============================\n",
            "\n",
            "Best ARIMA(0, 1, 1) RMSE=2.035\n"
          ]
        }
      ]
    },
    {
      "cell_type": "markdown",
      "source": [
        "get result"
      ],
      "metadata": {
        "id": "IpKq1FjdTiJ_"
      }
    },
    {
      "cell_type": "code",
      "source": [
        "import numpy as np\n",
        "all_data_list = []\n",
        "for sub_id in unique_sub_id:\n",
        "    temp = df1[df1['subscriber_ecid']==sub_id].values\n",
        "    if temp.shape[0] >2:\n",
        "      all_data_list.append(temp)\n",
        "\n",
        "final_predict_all_data = []\n",
        "# split into train and test sets\n",
        "for j in range(len(all_data_list)):\n",
        "  X = all_data_list[j]\n",
        "  train =(X[:,1])\n",
        "  history =list(train+0.00001*np.random.rand(len(train)))\n",
        "  predictions = list()\n",
        "  # model fit\n",
        "  for t in range(7):\n",
        "    model = ARIMA(history, order=best_order)\n",
        "    model_fit = model.fit(trend='nc', disp=1)\n",
        "    output = model_fit.forecast()\n",
        "    yhat = output[0]\n",
        "    predictions.append(yhat[0])\n",
        "    history.append(yhat[0])\n",
        "    # print('predicted=%f, expected=%f' % (yhat, obs))\n",
        "  final_predict_all_data.append(predictions)\n",
        "print(\"======= final result =======\")\n",
        "print(final_predict_all_data)"
      ],
      "metadata": {
        "id": "cM8vJgmETjZT",
        "outputId": "f3033244-8103-45d1-edff-449c02ba292f",
        "colab": {
          "base_uri": "https://localhost:8080/"
        }
      },
      "execution_count": 26,
      "outputs": [
        {
          "output_type": "stream",
          "name": "stdout",
          "text": [
            "======= final result =======\n",
            "[[-0.013972029929192938, -0.013971986237108654, -0.013971986861275156, -0.013971986852484205, -0.013971986852606305, -0.01397198685260463, -0.013971986852604654], [0.6135033577379765, 0.6134295145328961, 0.613363504414393, 0.6133021761865829, 0.6132451635788722, 0.6131921941834754, 0.6131429883375895], [3.007749624798927, 3.006699411577495, 3.0058193171087337, 3.005076440073078, 3.0044456884386235, 3.003907787057643, 3.003447389629407], [0.11909277367029968, 0.1171665311733874, 0.11719409706644376, 0.11719371852130764, 0.1171937582570557, 0.11719409021387114, 0.11719359875922215], [0.011025922822549042, 0.011110175124036009, 0.011169259659990216, 0.01121235759511175, 0.011244487182461118, 0.011268805372308285, 0.011287373697381822], [5.013943149644384, 5.013734455621578, 5.013667699852145, 5.013646274925696, 5.013639346153804, 5.013637113115996, 5.013636390219261], [0.010877152106326806, 0.01088036703527456, 0.010882446206123107, 0.010883793614775046, 0.0108846679401766, 0.010885235799125693, 0.010885605129520307], [4.071669800980087, 4.072357381502575, 4.072805024327231, 4.07309734336417, 4.073288739794141, 4.07341446565655, 4.073497042146128], [2.3695447897783604, 2.3545567989255396, 2.3547693227574076, 2.35476706082541, 2.3547671100588725, 2.3547668764593817, 2.3547669809777787], [-0.005633048429815589, -0.005632470262886542, -0.005632404961371179, -0.0056323976285704664, -0.005632396798498651, -0.005632396704114037, -0.005632396693416032], [0.005649771851373844, 0.005650141040194038, 0.005650333282095411, 0.0056504334524580336, 0.005650485698742417, 0.005650512967925852, 0.005650527235583946], [0.6446208185224822, 0.6463876263717215, 0.6481355704407898, 0.6497377619961782, 0.6512128927082369, 0.6525767358102408, 0.6538421968312884], [0.09042184104270257, 0.08908236600732916, 0.08910146068244373, 0.08910117509086783, 0.08910119919725326, 0.08910122805089712, 0.08910116264510747], [-0.01397497842847155, -0.013974978272489346, -0.013974978218940039, -0.01397497820053473, -0.013974978194181758, -0.013974978191990487, -0.013974978191231969], [-0.013971324429064083, -0.013971342508250531, -0.013971346744334794, -0.013971351037622677, -0.013971355338223827, -0.013971359654546215, -0.013971364008779798], [10.166598518740535, 10.16634788264519, 10.166234607927567, 10.166183064793458, 10.166159543875747, 10.1661487958165, 10.166143880131811], [-0.013972026503363719, -0.0139719901729801, -0.013971990672870319, -0.013971990668843602, -0.013971990665686976, -0.013971990668514137, -0.013971990665915781], [0.02974412900345122, 0.029475563271700637, 0.0294793720654996, 0.02947932165792018, 0.0294793362579025, 0.029479345167980724, 0.029479343992053656], [-0.013975137020876173, -0.013975136979726006, -0.013975136967236282, -0.013975136963438797, -0.013975136962281736, -0.01397513696192955, -0.013975136961822125], [5.665348923202911, 5.665486416946994, 5.665573017076719, 5.665627795909762, 5.665662469953018, 5.665684464028884, 5.665698432513483], [0.24784074934994274, 0.2440517005641803, 0.24410560920878244, 0.2441050128989712, 0.2441050234667874, 0.24410489097394594, 0.24410499835080332], [0.1731262403227366, 0.17050661689812818, 0.17054403662258227, 0.17054350943970326, 0.17054351693223557, 0.17054351232512555, 0.17054351371448034], [0.0503347304545856, 0.050267553588623545, 0.0502093444265792, 0.05015859376709294, 0.050114238269782674, 0.05007529201404455, 0.050040995694529786], [0.0433605860113669, 0.04337255490501807, 0.04338343442945057, 0.043393114749703976, 0.04340177671116132, 0.04340951875094511, 0.04341644864603776], [0.10350249786900347, 0.10361632970690103, 0.10369638431873918, 0.10375286906879572, 0.1037928464957465, 0.10382116819061611, 0.10384126336086254], [-0.013971266492033915, -0.013971268490150898, -0.01397127036896857, -0.013971272087418425, -0.013971273665986031, -0.013971275111974926, -0.013971276451129874], [3.206771880239612, 3.2065753130887997, 3.206488881953294, 3.2064503370654984, 3.206433069207442, 3.2064253194749788, 3.206421831659467], [-0.013972025572334474, -0.01397203102564408, -0.013972034277039917, -0.013972037366335953, -0.013972040311172076, -0.013972043114267488, -0.013972045787917386], [1.7630975042835417, 1.7631276825115754, 1.7631512116013737, 1.7631695781644272, 1.7631839292723368, 1.7631951514675703, 1.7632039347655486], [0.14580896456412745, 0.14349847487654638, 0.14353131761691934, 0.14353083630333804, 0.14353089138447742, 0.14353084367996702, 0.1435308867443068], [-0.013520186127871056, -0.013526727238366131, -0.013526634322998781, -0.013526636022508658, -0.013526635791111368, -0.0135266372847506, -0.013526637611105577], [0.81162435247573, 0.8118906902976184, 0.8120695634714917, 0.8121903182304817, 0.8122721783410215, 0.8123278081862806, 0.8123657162403792], [11.331792358448133, 11.329977219828981, 11.32878227397212, 11.327988188245646, 11.327456415941647, 11.327098920086417, 11.326858115959684], [2.549284775399919, 2.5490420070412356, 2.548951586088178, 2.5489130355863656, 2.5488961799540277, 2.5488887633013606, 2.5488854938521417], [0.07870783383320278, 0.07736463175020723, 0.07738381450485854, 0.012612842679009861, 0.012715688288542243, 0.012813918554215514, 0.012907698714466603], [1.8474122588020494, 1.8472023448436605, 1.8470737850054317, 1.8469946616554531, 1.8469458140358697, 1.846915596709534, 1.8468968736240126], [1.2061227306379343, 1.2062087359213136, 1.20620760606642, 1.2062076323771662, 1.2062075640434562, 1.2062076158519583, 1.2062076085305045], [2.2337131335631137, 2.234096566502502, 2.2344218283615227, 2.2346981288710572, 2.2349332274670655, 2.235133377420753, 2.2353041595332828], [12.15897156362134, 12.158317556278648, 12.158122096822602, 12.158063074843751, 12.158045167055581, 12.15803973009915, 12.158038076957798], [-0.013956906318614813, -0.013956892554482927, -0.013956888053176022, -0.013956886581959033, -0.013956886098900894, -0.013956885940758015, -0.01395688588877619], [2.078046379464666, 2.0805627914231826, 2.0827830231285627, 2.0847573473919447, 2.086525661540671, 2.0881208096887747, 2.0895656445493147], [0.1889891326016385, 0.18898913251037366, 0.18898913251040894, 0.1889891325104089, 0.1889891325104089, 0.1889891325104089, 0.1889891325104089], [1.1078942223420234, 1.0970141790111372, 1.0971695674232271, 1.0971672459869035, 1.097167326026845, 1.0971675209999687, 1.0971676477192025], [1.1385463774465534, 1.1353689854088056, 1.1323413817161145, 1.129550965798131, 1.126961777404498, 1.1245452701964425, 1.1222790031715741], [-0.01397106632730741, -0.013971071088148332, -0.01397106242786163, -0.013971054293436258, -0.013971046634810367, -0.013971039332270419, -0.013971032381920444], [0.5315432898229708, 0.5318880585949107, 0.5325397326308223, 0.5331695632381753, 0.5337805204892051, 0.5343743911846341, 0.5349530955356846], [-0.013824668778610306, -0.013826786121335819, -0.013826755413354173, -0.01382675693619374, -0.01382675695031908, -0.013826755999327584, -0.013826756026712218], [7.03386793878676, 6.9726488022371695, 6.9735180537282755, 6.973507969467926, 6.973506256783726, 6.973505039883086, 6.973506286005625], [0.049977348239952216, 0.049999063747241786, 0.05001142027080238, 0.05001854789473162, 0.05002269156091689, 0.050025105040685594, 0.05002651045848724], [0.7250819866267739, 0.7230543641953205, 0.7213541201348782, 0.7197371445156996, 0.7181951248870175, 0.7167226241526391, 0.7153150246476541], [3.645534732111236, 3.661023391040538, 3.674817198118835, 3.6871603961397885, 3.6982316502331, 3.708194769886253, 3.7171822216869246], [2.7747461882909414, 2.7566289775768364, 2.7568863017738727, 2.7568826954773034, 2.7568827434996184, 2.7568827394674282, 2.756882739230573], [2.986578044856917, 2.986019639230112, 2.985588964922698, 2.9852555948235318, 2.984996432162066, 2.9847946688263027, 2.984637336714683], [3.2258239509729445, 3.226116848001762, 3.226325120616321, 3.226473755622368, 3.2265802096287355, 3.22665664640474, 3.226711598653239], [0.80906513987851, 0.809153177515844, 0.8092180025157832, 0.8092659127234318, 0.8093014321357285, 0.809327825782267, 0.809347465993561], [0.3938458681911474, 0.3882332592614367, 0.38831294924287707, 0.3883121627363491, 0.3883122193653745, 0.38831221499318386, 0.38831214894368304], [2.2082556657000962, 2.2089038468949433, 2.2094036013772036, 2.209791782579617, 2.2100948175717456, 2.210332403715307, 2.2105190879678283], [0.061255669201060764, 0.06017123310318769, 0.06018666620574215, 0.06018645560555798, 0.0601865256983574, 0.060186507411828766, 0.06018646586585126], [-0.013497111941402759, -0.01349409268046246, -0.013491504665440995, -0.013489282511097392, -0.01348737240112808, -0.013485728161216676, -0.013484310768347154], [1.2047016106264814, 1.2123378076700222, 1.2122287801001017, 1.2122303436790922, 1.2122302600134696, 1.2122302680059371, 1.212230306931785], [-0.013971481685400421, -0.01397148213448902, -0.013971476002154952, -0.013971470213241778, -0.013971464707208866, -0.013971459466269277, -0.013971454431457043], [0.6370960312729481, 0.6334929558781635, 0.633544322429405, 0.6335435106848759, 0.6335434736968678, 0.6335436246010114, 0.6335436222613986], [0.9726564487471585, 0.9674190438192993, 0.9674936390286144, 0.9674926110495949, 0.9674925946472371, 0.9674925957692706, 0.9674925601285902], [5.574249845553389, 5.559620217396323, 5.559828135031315, 5.5598260911568556, 5.559825820487, 5.559825414052925, 5.559825301675899], [1.4764085646223966, 1.476524447189822, 1.4768541529917654, 1.4768089273704286, 1.4763351998813148, 1.4753529749709653, 1.473751248968387], [0.42579677093250035, 0.4217706956543832, 0.42182794384499434, 0.42182713853756665, 0.42182715021347317, 0.4218271516923965, 0.4218271505765111], [3.0249569389107105, 3.0244770907637246, 3.0241423482579433, 3.0239079260916784, 3.0237432716282044, 3.023627265138228, 3.023545650119897], [-0.01393063167091338, -0.013931159858203038, -0.013931152402293347, -0.013931152436182075, -0.013931152511541218, -0.013931152473434889, -0.013931152504913055], [0.11913226101445384, 0.11853800562820561, 0.11763668286686293, 0.11764742174438873, 0.11764656491437217, 0.11764657682838502, 0.11764702004722476], [-0.013972208494194038, -0.01397220853101052, -0.013972208546280448, -0.013972208552619563, -0.013972208555252783, -0.013972208556346373, -0.013972208556802085], [-0.01397067982955745, -0.013970679880898942, -0.013970679914087706, -0.013970679935551523, -0.013970679949448464, -0.013970679958458517, -0.013970679964302919], [-0.013400370714481934, -0.013408602021098425, -0.01340847687303992, -0.013408484889795918, -0.013408482102151443, -0.013408478422040498, -0.013408478275261966], [0.18704084563664533, 0.18704123839961917, 0.18704128073823414, 0.18704106750188193, 0.18704067356086942, 0.18704015715196698, 0.18703956190968907], [0.18709772305440778, 0.1871178542059746, 0.18713033990940175, 0.1871381418722756, 0.18714303369249843, 0.18714610793742323, 0.18714804634576254], [0.6664458821983716, 0.667101402206517, 0.6675661760650644, 0.6679038690983989, 0.6681527186264336, 0.6683376928161832, 0.6684758759957293], [-0.013871294554274171, -0.013873243211133725, -0.013874725729635634, -0.013876185132943386, -0.013877600755499535, -0.013879025269892521, -0.013880453993544003], [-0.013680712252019602, -0.013704582866070765, -0.01371626759117546, -0.013715701044431447, -0.013715728233589292, -0.013715727494365984, -0.013715727236093017], [0.8885200513985865, 0.890343895346309, 0.8919638449416838, 0.8934058590863369, 0.8946927909429192, 0.8958435578014923, 0.8968744124141256], [0.11373722850314921, 0.112654124803506, 0.11184004760735745, 0.11104350699161235, 0.11026224276567649, 0.10949525050317205, 0.10873966631027318], [0.956220705989253, 0.9507451014846117, 0.9508231595514139, 0.950822059792957, 0.9508220408608836, 0.9508219964157729, 0.9508220440136054], [0.23430050255033877, 0.23406829556500583, 0.23386171204820677, 0.23366288776428126, 0.23347161974830902, 0.23328766183664182, 0.23311083628292237], [-0.01382786893273274, -0.013829938259056426, -0.013829909022588066, -0.013829909321569757, -0.01382990924653436, -0.01382990930015291, -0.013829909491676104], [0.7721443005976526, 0.7721438701781962, 0.7721438156035753, 0.7721438086750168, 0.7721438077943624, 0.7721438076823117, 0.772143807668088], [1.7611848811095636, 1.7546170365245937, 1.7547106766532765, 1.754709362178683, 1.754709379527647, 1.754709381839559, 1.754709380738305], [4.903731268647801, 4.904034584436155, 4.904267684753754, 4.90444719505008, 4.904585895275324, 4.904693282122522, 4.904776561637979], [1.2004273648385353, 1.2000651572079437, 1.1997502971916818, 1.1994752596378302, 1.199233990204302, 1.1990216608675226, 1.1988342206995632], [0.0007072117686462223, 0.0004944987918585906, 0.0004975395130879219, 0.0004974966802599947, 0.000497480640199129, 0.0004974950505907547, 0.0004974958738219838], [1.3760533727066224, 1.3753648778826126, 1.3747859012053587, 1.37429673091446, 1.3738816478368883, 1.3735283253004558, 1.373226478118908], [1.750360451454836, 1.7503192084262584, 1.7503068565922204, 1.7503031494866854, 1.7503020377777674, 1.7503017032179395, 1.75030160260601], [14.632677573446784, 14.630434253888515, 14.629031049141732, 14.628143858615086, 14.62757773441465, 14.627216245175328, 14.626984604599638], [-0.013970970172483525, -0.013970988914944788, -0.013970988649813986, -0.013970988648790901, -0.013970988658695395, -0.013970988646614222, -0.01397098864677762], [7.524200804542026, 7.52658471992958, 7.528536945202552, 7.5301419024419936, 7.531465876230191, 7.532563213976275, 7.533473305227984], [1.606266379701172, 1.6058116083389613, 1.6054973096637315, 1.6052778786165276, 1.6051238459894042, 1.6050154049576721, 1.6049388456061502], [3.2406932390434195, 3.2399405285942655, 3.239316468487098, 3.2387969470964917, 3.238362937722434, 3.2380000377329643, 3.2376957064942355], [1.6465965675485155, 1.6469164337494289, 1.6471503332876676, 1.6473223252823426, 1.647448915722346, 1.647542409750869, 1.6476115208926405], [-0.009028993806437874, -0.009027215362225451, -0.009025782201022863, -0.009024626228671426, -0.009023692394673839, -0.009022938704716448, -0.009022328400163974], [0.13591466694559443, 0.1337465265675352, 0.13377744887101273, 0.13377701918897092, 0.13377699951292593, 0.13377697376455885, 0.13377698773821975]]\n"
          ]
        }
      ]
    },
    {
      "cell_type": "markdown",
      "source": [
        "# **LSTM Model**"
      ],
      "metadata": {
        "id": "D6lHVlRFC8GS"
      }
    },
    {
      "cell_type": "code",
      "source": [
        "X = []\n",
        "y = []\n",
        "mem_step = 14\n",
        "\n",
        "for item in data_list:\n",
        "  for i in range(mem_step, 69):\n",
        "      X.append(item[i-mem_step:i, 1:2])\n",
        "      # print(item[i-mem_step:i, 1:2])\n",
        "      y.append(item[i, 1:2])\n",
        "\n",
        "X, y = np.array(X), np.array(y)\n",
        "X, y = X.astype('float32'), y.astype('float32')"
      ],
      "metadata": {
        "id": "q9KgyTlo6X1n"
      },
      "execution_count": null,
      "outputs": []
    },
    {
      "cell_type": "code",
      "source": [
        " from sklearn.model_selection import train_test_split\n",
        " X_train, X_test, y_train, y_test = train_test_split(X, y, test_size=0.2, random_state=42)"
      ],
      "metadata": {
        "id": "UX3AZtLFLiRQ"
      },
      "execution_count": null,
      "outputs": []
    },
    {
      "cell_type": "code",
      "source": [
        "import tensorflow as tf\n",
        "import pandas as pd\n",
        "import numpy as np\n",
        "from tensorflow import keras\n",
        "import matplotlib.pyplot as plt\n",
        "\n",
        "from keras.models import Sequential\n",
        "from keras.layers import Dense\n",
        "from keras.layers import LSTM\n",
        "from keras.layers import Dropout\n",
        "\n",
        "# check GPU availability\n",
        "print(\"GPU is available :)\" if tf.config.list_physical_devices(\"GPU\") else \"Not available :(\")\n",
        "\n",
        "import warnings\n",
        "warnings.filterwarnings(\"ignore\")"
      ],
      "metadata": {
        "id": "I3Pg1xdd56x8"
      },
      "execution_count": null,
      "outputs": []
    },
    {
      "cell_type": "code",
      "source": [
        "keras_reg = Sequential()\n",
        "\n",
        "keras_reg.add(LSTM(units = 64, return_sequences = True, input_shape = (X.shape[1], 1)))\n",
        "keras_reg.add(Dropout(0.4))\n",
        "\n",
        "keras_reg.add(LSTM(units = 100, return_sequences = True))\n",
        "keras_reg.add(Dropout(0.4))\n",
        "\n",
        "keras_reg.add(LSTM(units = 100, return_sequences = True))\n",
        "keras_reg.add(Dropout(0.2))\n",
        "\n",
        "keras_reg.add(LSTM(units = 100, return_sequences = True))\n",
        "keras_reg.add(Dropout(0.2))\n",
        "\n",
        "keras_reg.add(LSTM(units = 16))\n",
        "keras_reg.add(Dropout(0.2))\n",
        "\n",
        "# keras_reg.add(Dense(units=32, activation='relu' ))\n",
        "keras_reg.add(Dense(units=16, activation='relu' ))\n",
        "keras_reg.add(Dense(units = 1))\n",
        "keras_reg.compile(optimizer = 'adam',\n",
        "                  loss = 'mean_squared_error',\n",
        "                  metrics='mse')\n",
        "# keras_reg.compile(optimizer = 'rmsprop', loss = 'mean_squared_error')\n",
        "history = keras_reg.fit(X_train, y_train,validation_split=0.2,shuffle=False,epochs = 30,verbose = 1)"
      ],
      "metadata": {
        "id": "s2T66OoKAM3v"
      },
      "execution_count": null,
      "outputs": []
    },
    {
      "cell_type": "code",
      "source": [
        "def plot_loss(history):\n",
        "  fig = plt.figure(figsize=(7,7))\n",
        "  plt.plot(history.history['mse'], label='mse')\n",
        "  plt.plot(history.history['val_mse'], label='val_mse')\n",
        "  plt.xlabel('Epoch')\n",
        "  plt.ylabel('Error')\n",
        "  plt.legend()\n",
        "  plt.grid(True)\n",
        "\n",
        "plot_loss(history)\n",
        "\n",
        "predicted_stock_price = keras_reg.predict(X_test)\n",
        "from sklearn.metrics import mean_squared_error\n",
        "print(sqrt(mean_squared_error(y_test, predicted_stock_price)))"
      ],
      "metadata": {
        "id": "RUquDCgc-yp_"
      },
      "execution_count": null,
      "outputs": []
    }
  ]
}