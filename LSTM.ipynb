{
  "nbformat": 4,
  "nbformat_minor": 0,
  "metadata": {
    "colab": {
      "name": "time_series.ipynb",
      "provenance": [],
      "collapsed_sections": [],
      "include_colab_link": true
    },
    "kernelspec": {
      "name": "python3",
      "display_name": "Python 3"
    },
    "language_info": {
      "name": "python"
    },
    "accelerator": "GPU"
  },
  "cells": [
    {
      "cell_type": "markdown",
      "metadata": {
        "id": "view-in-github",
        "colab_type": "text"
      },
      "source": [
        "<a href=\"https://colab.research.google.com/github/zahraDehghanian97/SCINet/blob/master/LSTM.ipynb\" target=\"_parent\"><img src=\"https://colab.research.google.com/assets/colab-badge.svg\" alt=\"Open In Colab\"/></a>"
      ]
    },
    {
      "cell_type": "code",
      "execution_count": null,
      "metadata": {
        "id": "t88pQ8NkX_mY"
      },
      "outputs": [],
      "source": [
        "import pandas as pd"
      ]
    },
    {
      "cell_type": "code",
      "source": [
        "df = pd.read_csv('/content/MCIRD_aaic2021_train.csv', header=0)"
      ],
      "metadata": {
        "id": "Q1_5mdwjYBLw"
      },
      "execution_count": null,
      "outputs": []
    },
    {
      "cell_type": "code",
      "source": [
        "df.head()"
      ],
      "metadata": {
        "colab": {
          "base_uri": "https://localhost:8080/",
          "height": 270
        },
        "id": "WkjwZfcWYeaD",
        "outputId": "3959e147-fed3-46d6-cb36-96b08bec9591"
      },
      "execution_count": null,
      "outputs": [
        {
          "output_type": "execute_result",
          "data": {
            "text/html": [
              "\n",
              "  <div id=\"df-ca4a5e35-a8bc-4759-8e75-3fcac4dafb68\">\n",
              "    <div class=\"colab-df-container\">\n",
              "      <div>\n",
              "<style scoped>\n",
              "    .dataframe tbody tr th:only-of-type {\n",
              "        vertical-align: middle;\n",
              "    }\n",
              "\n",
              "    .dataframe tbody tr th {\n",
              "        vertical-align: top;\n",
              "    }\n",
              "\n",
              "    .dataframe thead th {\n",
              "        text-align: right;\n",
              "    }\n",
              "</style>\n",
              "<table border=\"1\" class=\"dataframe\">\n",
              "  <thead>\n",
              "    <tr style=\"text-align: right;\">\n",
              "      <th></th>\n",
              "      <th>day</th>\n",
              "      <th>subscriber_ecid</th>\n",
              "      <th>subscriber_gender</th>\n",
              "      <th>subscriber_age</th>\n",
              "      <th>registration_province</th>\n",
              "      <th>months_of_subscription</th>\n",
              "      <th>most_used_province</th>\n",
              "      <th>is_usage_nonzero</th>\n",
              "      <th>subscriber_total_expenses</th>\n",
              "      <th>nonpackage_voice_expenses</th>\n",
              "      <th>package_voice_noncash_expenses</th>\n",
              "      <th>is_voice_expenses_nonzero</th>\n",
              "      <th>is_voice_usage_nonzero</th>\n",
              "      <th>call_in_network_duration</th>\n",
              "      <th>call_off_netwrok_duration</th>\n",
              "      <th>nonpackage_call_in_network_expenses</th>\n",
              "      <th>nonpackage_call_off_network_expenses</th>\n",
              "      <th>total_call_duration</th>\n",
              "      <th>#inter_operator_calls</th>\n",
              "      <th>xyz_score</th>\n",
              "      <th>hxr_score</th>\n",
              "      <th>data_cash_expenses</th>\n",
              "      <th>nonpackage_data_expenses</th>\n",
              "      <th>package_data_noncash_expenses</th>\n",
              "      <th>subscriber_data_expenses</th>\n",
              "      <th>subscriber_nondata_expenses</th>\n",
              "      <th>data_usage_volume</th>\n",
              "      <th>is_data_expenses_nonzero</th>\n",
              "      <th>is_data_usage_nonzero</th>\n",
              "      <th>#activated_monthly_data_packages</th>\n",
              "      <th>#activated_short_term_data_packages</th>\n",
              "      <th>#activated_type_one_data_packages</th>\n",
              "      <th>#activated_type_two_data_packages</th>\n",
              "      <th>#activated_type_three_data_packages</th>\n",
              "    </tr>\n",
              "  </thead>\n",
              "  <tbody>\n",
              "    <tr>\n",
              "      <th>0</th>\n",
              "      <td>(n)01</td>\n",
              "      <td>-06FoayTOXJ8-</td>\n",
              "      <td>1</td>\n",
              "      <td>36.0</td>\n",
              "      <td>8</td>\n",
              "      <td>188</td>\n",
              "      <td>8</td>\n",
              "      <td>1</td>\n",
              "      <td>-0.132373</td>\n",
              "      <td>-0.072802</td>\n",
              "      <td>0.0</td>\n",
              "      <td>1</td>\n",
              "      <td>1</td>\n",
              "      <td>-0.155626</td>\n",
              "      <td>0.0</td>\n",
              "      <td>-0.256454</td>\n",
              "      <td>0.0</td>\n",
              "      <td>-0.220797</td>\n",
              "      <td>0.0</td>\n",
              "      <td>0.031219</td>\n",
              "      <td>38.192862</td>\n",
              "      <td>0.0</td>\n",
              "      <td>0.0</td>\n",
              "      <td>0.0</td>\n",
              "      <td>0.0</td>\n",
              "      <td>-0.104687</td>\n",
              "      <td>0.072258</td>\n",
              "      <td>0</td>\n",
              "      <td>1</td>\n",
              "      <td>0</td>\n",
              "      <td>0</td>\n",
              "      <td>0</td>\n",
              "      <td>0</td>\n",
              "      <td>0</td>\n",
              "    </tr>\n",
              "    <tr>\n",
              "      <th>1</th>\n",
              "      <td>(n)02</td>\n",
              "      <td>-06FoayTOXJ8-</td>\n",
              "      <td>1</td>\n",
              "      <td>36.0</td>\n",
              "      <td>8</td>\n",
              "      <td>188</td>\n",
              "      <td>8</td>\n",
              "      <td>1</td>\n",
              "      <td>-0.122445</td>\n",
              "      <td>-0.060440</td>\n",
              "      <td>0.0</td>\n",
              "      <td>1</td>\n",
              "      <td>1</td>\n",
              "      <td>-0.142857</td>\n",
              "      <td>0.0</td>\n",
              "      <td>0.036145</td>\n",
              "      <td>0.0</td>\n",
              "      <td>-0.210668</td>\n",
              "      <td>0.0</td>\n",
              "      <td>0.033491</td>\n",
              "      <td>38.144232</td>\n",
              "      <td>0.0</td>\n",
              "      <td>0.0</td>\n",
              "      <td>0.0</td>\n",
              "      <td>0.0</td>\n",
              "      <td>-0.092861</td>\n",
              "      <td>0.049563</td>\n",
              "      <td>0</td>\n",
              "      <td>1</td>\n",
              "      <td>0</td>\n",
              "      <td>0</td>\n",
              "      <td>0</td>\n",
              "      <td>0</td>\n",
              "      <td>0</td>\n",
              "    </tr>\n",
              "    <tr>\n",
              "      <th>2</th>\n",
              "      <td>(n)03</td>\n",
              "      <td>-06FoayTOXJ8-</td>\n",
              "      <td>1</td>\n",
              "      <td>36.0</td>\n",
              "      <td>8</td>\n",
              "      <td>188</td>\n",
              "      <td>8</td>\n",
              "      <td>1</td>\n",
              "      <td>0.343066</td>\n",
              "      <td>0.519231</td>\n",
              "      <td>0.0</td>\n",
              "      <td>1</td>\n",
              "      <td>1</td>\n",
              "      <td>0.418196</td>\n",
              "      <td>0.0</td>\n",
              "      <td>0.762478</td>\n",
              "      <td>0.0</td>\n",
              "      <td>0.264686</td>\n",
              "      <td>0.0</td>\n",
              "      <td>0.036831</td>\n",
              "      <td>37.990377</td>\n",
              "      <td>0.0</td>\n",
              "      <td>0.0</td>\n",
              "      <td>0.0</td>\n",
              "      <td>0.0</td>\n",
              "      <td>0.461665</td>\n",
              "      <td>-0.013977</td>\n",
              "      <td>0</td>\n",
              "      <td>0</td>\n",
              "      <td>0</td>\n",
              "      <td>0</td>\n",
              "      <td>0</td>\n",
              "      <td>0</td>\n",
              "      <td>0</td>\n",
              "    </tr>\n",
              "    <tr>\n",
              "      <th>3</th>\n",
              "      <td>(n)04</td>\n",
              "      <td>-06FoayTOXJ8-</td>\n",
              "      <td>1</td>\n",
              "      <td>36.0</td>\n",
              "      <td>8</td>\n",
              "      <td>188</td>\n",
              "      <td>8</td>\n",
              "      <td>1</td>\n",
              "      <td>1.869763</td>\n",
              "      <td>2.420329</td>\n",
              "      <td>0.0</td>\n",
              "      <td>1</td>\n",
              "      <td>1</td>\n",
              "      <td>2.259377</td>\n",
              "      <td>0.0</td>\n",
              "      <td>3.144579</td>\n",
              "      <td>0.0</td>\n",
              "      <td>1.821742</td>\n",
              "      <td>0.0</td>\n",
              "      <td>0.039942</td>\n",
              "      <td>37.777398</td>\n",
              "      <td>0.0</td>\n",
              "      <td>0.0</td>\n",
              "      <td>0.0</td>\n",
              "      <td>0.0</td>\n",
              "      <td>2.280301</td>\n",
              "      <td>0.000403</td>\n",
              "      <td>0</td>\n",
              "      <td>1</td>\n",
              "      <td>0</td>\n",
              "      <td>0</td>\n",
              "      <td>0</td>\n",
              "      <td>0</td>\n",
              "      <td>0</td>\n",
              "    </tr>\n",
              "    <tr>\n",
              "      <th>4</th>\n",
              "      <td>(n)05</td>\n",
              "      <td>-06FoayTOXJ8-</td>\n",
              "      <td>1</td>\n",
              "      <td>36.0</td>\n",
              "      <td>8</td>\n",
              "      <td>188</td>\n",
              "      <td>8</td>\n",
              "      <td>1</td>\n",
              "      <td>-0.233858</td>\n",
              "      <td>-0.199176</td>\n",
              "      <td>0.0</td>\n",
              "      <td>1</td>\n",
              "      <td>1</td>\n",
              "      <td>-0.277733</td>\n",
              "      <td>0.0</td>\n",
              "      <td>-0.137693</td>\n",
              "      <td>0.0</td>\n",
              "      <td>-0.324105</td>\n",
              "      <td>0.0</td>\n",
              "      <td>0.042694</td>\n",
              "      <td>37.545275</td>\n",
              "      <td>0.0</td>\n",
              "      <td>0.0</td>\n",
              "      <td>0.0</td>\n",
              "      <td>0.0</td>\n",
              "      <td>-0.225579</td>\n",
              "      <td>0.016209</td>\n",
              "      <td>0</td>\n",
              "      <td>1</td>\n",
              "      <td>0</td>\n",
              "      <td>0</td>\n",
              "      <td>0</td>\n",
              "      <td>0</td>\n",
              "      <td>0</td>\n",
              "    </tr>\n",
              "  </tbody>\n",
              "</table>\n",
              "</div>\n",
              "      <button class=\"colab-df-convert\" onclick=\"convertToInteractive('df-ca4a5e35-a8bc-4759-8e75-3fcac4dafb68')\"\n",
              "              title=\"Convert this dataframe to an interactive table.\"\n",
              "              style=\"display:none;\">\n",
              "        \n",
              "  <svg xmlns=\"http://www.w3.org/2000/svg\" height=\"24px\"viewBox=\"0 0 24 24\"\n",
              "       width=\"24px\">\n",
              "    <path d=\"M0 0h24v24H0V0z\" fill=\"none\"/>\n",
              "    <path d=\"M18.56 5.44l.94 2.06.94-2.06 2.06-.94-2.06-.94-.94-2.06-.94 2.06-2.06.94zm-11 1L8.5 8.5l.94-2.06 2.06-.94-2.06-.94L8.5 2.5l-.94 2.06-2.06.94zm10 10l.94 2.06.94-2.06 2.06-.94-2.06-.94-.94-2.06-.94 2.06-2.06.94z\"/><path d=\"M17.41 7.96l-1.37-1.37c-.4-.4-.92-.59-1.43-.59-.52 0-1.04.2-1.43.59L10.3 9.45l-7.72 7.72c-.78.78-.78 2.05 0 2.83L4 21.41c.39.39.9.59 1.41.59.51 0 1.02-.2 1.41-.59l7.78-7.78 2.81-2.81c.8-.78.8-2.07 0-2.86zM5.41 20L4 18.59l7.72-7.72 1.47 1.35L5.41 20z\"/>\n",
              "  </svg>\n",
              "      </button>\n",
              "      \n",
              "  <style>\n",
              "    .colab-df-container {\n",
              "      display:flex;\n",
              "      flex-wrap:wrap;\n",
              "      gap: 12px;\n",
              "    }\n",
              "\n",
              "    .colab-df-convert {\n",
              "      background-color: #E8F0FE;\n",
              "      border: none;\n",
              "      border-radius: 50%;\n",
              "      cursor: pointer;\n",
              "      display: none;\n",
              "      fill: #1967D2;\n",
              "      height: 32px;\n",
              "      padding: 0 0 0 0;\n",
              "      width: 32px;\n",
              "    }\n",
              "\n",
              "    .colab-df-convert:hover {\n",
              "      background-color: #E2EBFA;\n",
              "      box-shadow: 0px 1px 2px rgba(60, 64, 67, 0.3), 0px 1px 3px 1px rgba(60, 64, 67, 0.15);\n",
              "      fill: #174EA6;\n",
              "    }\n",
              "\n",
              "    [theme=dark] .colab-df-convert {\n",
              "      background-color: #3B4455;\n",
              "      fill: #D2E3FC;\n",
              "    }\n",
              "\n",
              "    [theme=dark] .colab-df-convert:hover {\n",
              "      background-color: #434B5C;\n",
              "      box-shadow: 0px 1px 3px 1px rgba(0, 0, 0, 0.15);\n",
              "      filter: drop-shadow(0px 1px 2px rgba(0, 0, 0, 0.3));\n",
              "      fill: #FFFFFF;\n",
              "    }\n",
              "  </style>\n",
              "\n",
              "      <script>\n",
              "        const buttonEl =\n",
              "          document.querySelector('#df-ca4a5e35-a8bc-4759-8e75-3fcac4dafb68 button.colab-df-convert');\n",
              "        buttonEl.style.display =\n",
              "          google.colab.kernel.accessAllowed ? 'block' : 'none';\n",
              "\n",
              "        async function convertToInteractive(key) {\n",
              "          const element = document.querySelector('#df-ca4a5e35-a8bc-4759-8e75-3fcac4dafb68');\n",
              "          const dataTable =\n",
              "            await google.colab.kernel.invokeFunction('convertToInteractive',\n",
              "                                                     [key], {});\n",
              "          if (!dataTable) return;\n",
              "\n",
              "          const docLinkHtml = 'Like what you see? Visit the ' +\n",
              "            '<a target=\"_blank\" href=https://colab.research.google.com/notebooks/data_table.ipynb>data table notebook</a>'\n",
              "            + ' to learn more about interactive tables.';\n",
              "          element.innerHTML = '';\n",
              "          dataTable['output_type'] = 'display_data';\n",
              "          await google.colab.output.renderOutput(dataTable, element);\n",
              "          const docLink = document.createElement('div');\n",
              "          docLink.innerHTML = docLinkHtml;\n",
              "          element.appendChild(docLink);\n",
              "        }\n",
              "      </script>\n",
              "    </div>\n",
              "  </div>\n",
              "  "
            ],
            "text/plain": [
              "     day  ... #activated_type_three_data_packages\n",
              "0  (n)01  ...                                   0\n",
              "1  (n)02  ...                                   0\n",
              "2  (n)03  ...                                   0\n",
              "3  (n)04  ...                                   0\n",
              "4  (n)05  ...                                   0\n",
              "\n",
              "[5 rows x 34 columns]"
            ]
          },
          "metadata": {},
          "execution_count": 3
        }
      ]
    },
    {
      "cell_type": "code",
      "source": [
        "df1 = df[['subscriber_ecid', 'data_usage_volume']]"
      ],
      "metadata": {
        "id": "SNFimHFJYfpl"
      },
      "execution_count": null,
      "outputs": []
    },
    {
      "cell_type": "code",
      "source": [
        "df1.head()"
      ],
      "metadata": {
        "colab": {
          "base_uri": "https://localhost:8080/",
          "height": 206
        },
        "id": "81fTCpUMaKIh",
        "outputId": "d8780c78-c55a-4f6a-c3ba-e7e7f1fcd699"
      },
      "execution_count": null,
      "outputs": [
        {
          "output_type": "execute_result",
          "data": {
            "text/html": [
              "\n",
              "  <div id=\"df-750685ca-fd18-4b40-b921-0e8270fae9ef\">\n",
              "    <div class=\"colab-df-container\">\n",
              "      <div>\n",
              "<style scoped>\n",
              "    .dataframe tbody tr th:only-of-type {\n",
              "        vertical-align: middle;\n",
              "    }\n",
              "\n",
              "    .dataframe tbody tr th {\n",
              "        vertical-align: top;\n",
              "    }\n",
              "\n",
              "    .dataframe thead th {\n",
              "        text-align: right;\n",
              "    }\n",
              "</style>\n",
              "<table border=\"1\" class=\"dataframe\">\n",
              "  <thead>\n",
              "    <tr style=\"text-align: right;\">\n",
              "      <th></th>\n",
              "      <th>subscriber_ecid</th>\n",
              "      <th>data_usage_volume</th>\n",
              "    </tr>\n",
              "  </thead>\n",
              "  <tbody>\n",
              "    <tr>\n",
              "      <th>0</th>\n",
              "      <td>-06FoayTOXJ8-</td>\n",
              "      <td>0.072258</td>\n",
              "    </tr>\n",
              "    <tr>\n",
              "      <th>1</th>\n",
              "      <td>-06FoayTOXJ8-</td>\n",
              "      <td>0.049563</td>\n",
              "    </tr>\n",
              "    <tr>\n",
              "      <th>2</th>\n",
              "      <td>-06FoayTOXJ8-</td>\n",
              "      <td>-0.013977</td>\n",
              "    </tr>\n",
              "    <tr>\n",
              "      <th>3</th>\n",
              "      <td>-06FoayTOXJ8-</td>\n",
              "      <td>0.000403</td>\n",
              "    </tr>\n",
              "    <tr>\n",
              "      <th>4</th>\n",
              "      <td>-06FoayTOXJ8-</td>\n",
              "      <td>0.016209</td>\n",
              "    </tr>\n",
              "  </tbody>\n",
              "</table>\n",
              "</div>\n",
              "      <button class=\"colab-df-convert\" onclick=\"convertToInteractive('df-750685ca-fd18-4b40-b921-0e8270fae9ef')\"\n",
              "              title=\"Convert this dataframe to an interactive table.\"\n",
              "              style=\"display:none;\">\n",
              "        \n",
              "  <svg xmlns=\"http://www.w3.org/2000/svg\" height=\"24px\"viewBox=\"0 0 24 24\"\n",
              "       width=\"24px\">\n",
              "    <path d=\"M0 0h24v24H0V0z\" fill=\"none\"/>\n",
              "    <path d=\"M18.56 5.44l.94 2.06.94-2.06 2.06-.94-2.06-.94-.94-2.06-.94 2.06-2.06.94zm-11 1L8.5 8.5l.94-2.06 2.06-.94-2.06-.94L8.5 2.5l-.94 2.06-2.06.94zm10 10l.94 2.06.94-2.06 2.06-.94-2.06-.94-.94-2.06-.94 2.06-2.06.94z\"/><path d=\"M17.41 7.96l-1.37-1.37c-.4-.4-.92-.59-1.43-.59-.52 0-1.04.2-1.43.59L10.3 9.45l-7.72 7.72c-.78.78-.78 2.05 0 2.83L4 21.41c.39.39.9.59 1.41.59.51 0 1.02-.2 1.41-.59l7.78-7.78 2.81-2.81c.8-.78.8-2.07 0-2.86zM5.41 20L4 18.59l7.72-7.72 1.47 1.35L5.41 20z\"/>\n",
              "  </svg>\n",
              "      </button>\n",
              "      \n",
              "  <style>\n",
              "    .colab-df-container {\n",
              "      display:flex;\n",
              "      flex-wrap:wrap;\n",
              "      gap: 12px;\n",
              "    }\n",
              "\n",
              "    .colab-df-convert {\n",
              "      background-color: #E8F0FE;\n",
              "      border: none;\n",
              "      border-radius: 50%;\n",
              "      cursor: pointer;\n",
              "      display: none;\n",
              "      fill: #1967D2;\n",
              "      height: 32px;\n",
              "      padding: 0 0 0 0;\n",
              "      width: 32px;\n",
              "    }\n",
              "\n",
              "    .colab-df-convert:hover {\n",
              "      background-color: #E2EBFA;\n",
              "      box-shadow: 0px 1px 2px rgba(60, 64, 67, 0.3), 0px 1px 3px 1px rgba(60, 64, 67, 0.15);\n",
              "      fill: #174EA6;\n",
              "    }\n",
              "\n",
              "    [theme=dark] .colab-df-convert {\n",
              "      background-color: #3B4455;\n",
              "      fill: #D2E3FC;\n",
              "    }\n",
              "\n",
              "    [theme=dark] .colab-df-convert:hover {\n",
              "      background-color: #434B5C;\n",
              "      box-shadow: 0px 1px 3px 1px rgba(0, 0, 0, 0.15);\n",
              "      filter: drop-shadow(0px 1px 2px rgba(0, 0, 0, 0.3));\n",
              "      fill: #FFFFFF;\n",
              "    }\n",
              "  </style>\n",
              "\n",
              "      <script>\n",
              "        const buttonEl =\n",
              "          document.querySelector('#df-750685ca-fd18-4b40-b921-0e8270fae9ef button.colab-df-convert');\n",
              "        buttonEl.style.display =\n",
              "          google.colab.kernel.accessAllowed ? 'block' : 'none';\n",
              "\n",
              "        async function convertToInteractive(key) {\n",
              "          const element = document.querySelector('#df-750685ca-fd18-4b40-b921-0e8270fae9ef');\n",
              "          const dataTable =\n",
              "            await google.colab.kernel.invokeFunction('convertToInteractive',\n",
              "                                                     [key], {});\n",
              "          if (!dataTable) return;\n",
              "\n",
              "          const docLinkHtml = 'Like what you see? Visit the ' +\n",
              "            '<a target=\"_blank\" href=https://colab.research.google.com/notebooks/data_table.ipynb>data table notebook</a>'\n",
              "            + ' to learn more about interactive tables.';\n",
              "          element.innerHTML = '';\n",
              "          dataTable['output_type'] = 'display_data';\n",
              "          await google.colab.output.renderOutput(dataTable, element);\n",
              "          const docLink = document.createElement('div');\n",
              "          docLink.innerHTML = docLinkHtml;\n",
              "          element.appendChild(docLink);\n",
              "        }\n",
              "      </script>\n",
              "    </div>\n",
              "  </div>\n",
              "  "
            ],
            "text/plain": [
              "  subscriber_ecid  data_usage_volume\n",
              "0   -06FoayTOXJ8-           0.072258\n",
              "1   -06FoayTOXJ8-           0.049563\n",
              "2   -06FoayTOXJ8-          -0.013977\n",
              "3   -06FoayTOXJ8-           0.000403\n",
              "4   -06FoayTOXJ8-           0.016209"
            ]
          },
          "metadata": {},
          "execution_count": 5
        }
      ]
    },
    {
      "cell_type": "markdown",
      "source": [
        "خیلی از مقادیر دیتاست -0.0139766307813943 این هستن و میشه به راحتی اینارو جایگزین کرد"
      ],
      "metadata": {
        "id": "FIbHY88f-RVu"
      }
    },
    {
      "cell_type": "code",
      "source": [
        "unique_sub_id = set(df1['subscriber_ecid'].values)"
      ],
      "metadata": {
        "id": "fiyCu2I9aLYa"
      },
      "execution_count": null,
      "outputs": []
    },
    {
      "cell_type": "code",
      "source": [
        "len(unique_sub_id)"
      ],
      "metadata": {
        "colab": {
          "base_uri": "https://localhost:8080/"
        },
        "id": "roCLyU7Ra9vX",
        "outputId": "8c172e4b-a7e1-4416-e449-07b202bcff2e"
      },
      "execution_count": null,
      "outputs": [
        {
          "output_type": "execute_result",
          "data": {
            "text/plain": [
              "100"
            ]
          },
          "metadata": {},
          "execution_count": 7
        }
      ]
    },
    {
      "cell_type": "code",
      "source": [
        "# df_array = df1.values"
      ],
      "metadata": {
        "id": "9D8zAItOcrVd"
      },
      "execution_count": null,
      "outputs": []
    },
    {
      "cell_type": "code",
      "source": [
        "import numpy as np"
      ],
      "metadata": {
        "id": "pf0OFb_Oc5Ri"
      },
      "execution_count": null,
      "outputs": []
    },
    {
      "cell_type": "code",
      "source": [
        "# df_array[0][0]"
      ],
      "metadata": {
        "id": "bML6FZZ4dGTn"
      },
      "execution_count": null,
      "outputs": []
    },
    {
      "cell_type": "code",
      "source": [
        "data_list = []\n",
        "for sub_id in unique_sub_id:\n",
        "    # print(sub_id)\n",
        "    temp = df1[df1['subscriber_ecid']==sub_id].values\n",
        "    if temp.shape[0] < 69:\n",
        "        print(temp.shape)\n",
        "        print(sub_id)\n",
        "    else:\n",
        "        data_list.append(temp)"
      ],
      "metadata": {
        "colab": {
          "base_uri": "https://localhost:8080/"
        },
        "id": "UR1bJBYjcQRT",
        "outputId": "d84a928b-7365-4b16-c57c-eab8a06cfe6e"
      },
      "execution_count": null,
      "outputs": [
        {
          "output_type": "stream",
          "name": "stdout",
          "text": [
            "(61, 2)\n",
            "0o-xDa8uTNBGu\n",
            "(1, 2)\n",
            "37v4v4PPObMC_\n",
            "(22, 2)\n",
            "-gjfIaG2oxwzj\n",
            "(2, 2)\n",
            "28gWxNYMU_2dg\n",
            "(68, 2)\n",
            "-DgEYYT0gqMqr\n",
            "(1, 2)\n",
            "32ez6CX89v6KZ\n",
            "(67, 2)\n",
            "-XU6p4P-782mp\n",
            "(18, 2)\n",
            "1EN04BS-9nKgc\n",
            "(53, 2)\n",
            "0T7ixhiDdZ8TL\n",
            "(60, 2)\n",
            "-QXHomYaJxYXi\n"
          ]
        }
      ]
    },
    {
      "cell_type": "code",
      "source": [
        "# for i in data_list:\n",
        "#     print(i.shape)"
      ],
      "metadata": {
        "id": "bUL8iTft2ajk"
      },
      "execution_count": null,
      "outputs": []
    },
    {
      "cell_type": "code",
      "source": [
        "# training_set_scaled = train_data.iloc[:, :].values"
      ],
      "metadata": {
        "id": "fw3rXGQS7LQE"
      },
      "execution_count": null,
      "outputs": []
    },
    {
      "cell_type": "code",
      "source": [
        "X = []\n",
        "y = []\n",
        "mem_step = 14\n",
        "\n",
        "for item in data_list:\n",
        "  for i in range(mem_step, 69):\n",
        "      X.append(item[i-mem_step:i, 1:2])\n",
        "      # print(item[i-mem_step:i, 1:2])\n",
        "      y.append(item[i, 1:2])\n",
        "\n",
        "X, y = np.array(X), np.array(y)"
      ],
      "metadata": {
        "id": "q9KgyTlo6X1n"
      },
      "execution_count": null,
      "outputs": []
    },
    {
      "cell_type": "code",
      "source": [
        "X, y = X.astype('float32'), y.astype('float32')"
      ],
      "metadata": {
        "id": "HaMrndADA8p8"
      },
      "execution_count": null,
      "outputs": []
    },
    {
      "cell_type": "code",
      "source": [
        " from sklearn.model_selection import train_test_split\n",
        " X_train, X_test, y_train, y_test = train_test_split(X, y, test_size=0.2, random_state=42)"
      ],
      "metadata": {
        "id": "UX3AZtLFLiRQ"
      },
      "execution_count": null,
      "outputs": []
    },
    {
      "cell_type": "code",
      "source": [
        "import tensorflow as tf\n",
        "import pandas as pd\n",
        "import numpy as np\n",
        "from tensorflow import keras\n",
        "import matplotlib.pyplot as plt\n",
        "\n",
        "from keras.models import Sequential\n",
        "from keras.layers import Dense\n",
        "from keras.layers import LSTM\n",
        "from keras.layers import Dropout\n",
        "\n",
        "# check GPU availability\n",
        "print(\"GPU is available :)\" if tf.config.list_physical_devices(\"GPU\") else \"Not available :(\")\n",
        "\n",
        "import warnings\n",
        "warnings.filterwarnings(\"ignore\")"
      ],
      "metadata": {
        "colab": {
          "base_uri": "https://localhost:8080/"
        },
        "id": "I3Pg1xdd56x8",
        "outputId": "b0d1b5b7-f6bb-448e-d8ba-236890bd7a91"
      },
      "execution_count": null,
      "outputs": [
        {
          "output_type": "stream",
          "name": "stdout",
          "text": [
            "GPU is available :)\n"
          ]
        }
      ]
    },
    {
      "cell_type": "code",
      "source": [
        "keras_reg = Sequential()\n",
        "\n",
        "keras_reg.add(LSTM(units = 64, return_sequences = True, input_shape = (X.shape[1], 1)))\n",
        "keras_reg.add(Dropout(0.4))\n",
        "\n",
        "keras_reg.add(LSTM(units = 100, return_sequences = True))\n",
        "keras_reg.add(Dropout(0.4))\n",
        "\n",
        "keras_reg.add(LSTM(units = 100, return_sequences = True))\n",
        "keras_reg.add(Dropout(0.2))\n",
        "\n",
        "keras_reg.add(LSTM(units = 100, return_sequences = True))\n",
        "keras_reg.add(Dropout(0.2))\n",
        "\n",
        "keras_reg.add(LSTM(units = 16))\n",
        "keras_reg.add(Dropout(0.2))\n",
        "\n",
        "# keras_reg.add(Dense(units=32, activation='relu' ))\n",
        "keras_reg.add(Dense(units=16, activation='relu' ))\n",
        "keras_reg.add(Dense(units = 1))"
      ],
      "metadata": {
        "id": "s2T66OoKAM3v"
      },
      "execution_count": null,
      "outputs": []
    },
    {
      "cell_type": "code",
      "source": [
        "keras_reg.compile(optimizer = 'adam',\n",
        "                  loss = 'mean_squared_error',\n",
        "                  metrics='mse')\n",
        "# keras_reg.compile(optimizer = 'rmsprop', loss = 'mean_squared_error')"
      ],
      "metadata": {
        "id": "Ay2v9jjUAfu7"
      },
      "execution_count": null,
      "outputs": []
    },
    {
      "cell_type": "code",
      "source": [
        "history = keras_reg.fit(X_train, y_train,\n",
        "                        validation_split=0.2,\n",
        "                        shuffle=False,\n",
        "                        epochs = 30,\n",
        "                        verbose = 1)"
      ],
      "metadata": {
        "colab": {
          "base_uri": "https://localhost:8080/"
        },
        "id": "GJxdOQal-ynA",
        "outputId": "de6e8eb6-836a-486e-cad0-38a4d79b6f08"
      },
      "execution_count": null,
      "outputs": [
        {
          "output_type": "stream",
          "name": "stdout",
          "text": [
            "Epoch 1/30\n",
            "25/25 [==============================] - 19s 197ms/step - loss: 35.6576 - mse: 35.6576 - val_loss: 8.0471 - val_mse: 8.0471\n",
            "Epoch 2/30\n",
            "25/25 [==============================] - 1s 38ms/step - loss: 33.4023 - mse: 33.4023 - val_loss: 7.1625 - val_mse: 7.1625\n",
            "Epoch 3/30\n",
            "25/25 [==============================] - 1s 44ms/step - loss: 32.1767 - mse: 32.1767 - val_loss: 6.8131 - val_mse: 6.8131\n",
            "Epoch 4/30\n",
            "25/25 [==============================] - 1s 28ms/step - loss: 31.8303 - mse: 31.8303 - val_loss: 6.5565 - val_mse: 6.5565\n",
            "Epoch 5/30\n",
            "25/25 [==============================] - 1s 29ms/step - loss: 31.0379 - mse: 31.0379 - val_loss: 6.2439 - val_mse: 6.2439\n",
            "Epoch 6/30\n",
            "25/25 [==============================] - 1s 28ms/step - loss: 31.3729 - mse: 31.3729 - val_loss: 6.1172 - val_mse: 6.1172\n",
            "Epoch 7/30\n",
            "25/25 [==============================] - 1s 26ms/step - loss: 31.5562 - mse: 31.5562 - val_loss: 6.1829 - val_mse: 6.1829\n",
            "Epoch 8/30\n",
            "25/25 [==============================] - 1s 27ms/step - loss: 30.9987 - mse: 30.9987 - val_loss: 6.1935 - val_mse: 6.1935\n",
            "Epoch 9/30\n",
            "25/25 [==============================] - 1s 29ms/step - loss: 30.8021 - mse: 30.8021 - val_loss: 6.2435 - val_mse: 6.2435\n",
            "Epoch 10/30\n",
            "25/25 [==============================] - 1s 27ms/step - loss: 30.3249 - mse: 30.3249 - val_loss: 6.0922 - val_mse: 6.0922\n",
            "Epoch 11/30\n",
            "25/25 [==============================] - 1s 26ms/step - loss: 30.8216 - mse: 30.8216 - val_loss: 6.2702 - val_mse: 6.2702\n",
            "Epoch 12/30\n",
            "25/25 [==============================] - 1s 27ms/step - loss: 30.8650 - mse: 30.8650 - val_loss: 6.0401 - val_mse: 6.0401\n",
            "Epoch 13/30\n",
            "25/25 [==============================] - 1s 25ms/step - loss: 30.7321 - mse: 30.7321 - val_loss: 6.0531 - val_mse: 6.0531\n",
            "Epoch 14/30\n",
            "25/25 [==============================] - 1s 26ms/step - loss: 31.1439 - mse: 31.1439 - val_loss: 5.9730 - val_mse: 5.9730\n",
            "Epoch 15/30\n",
            "25/25 [==============================] - 1s 27ms/step - loss: 30.7056 - mse: 30.7056 - val_loss: 5.8836 - val_mse: 5.8836\n",
            "Epoch 16/30\n",
            "25/25 [==============================] - 1s 27ms/step - loss: 30.5006 - mse: 30.5006 - val_loss: 5.9012 - val_mse: 5.9012\n",
            "Epoch 17/30\n",
            "25/25 [==============================] - 1s 26ms/step - loss: 30.3647 - mse: 30.3647 - val_loss: 5.9295 - val_mse: 5.9295\n",
            "Epoch 18/30\n",
            "25/25 [==============================] - 1s 27ms/step - loss: 29.6489 - mse: 29.6489 - val_loss: 5.8574 - val_mse: 5.8574\n",
            "Epoch 19/30\n",
            "25/25 [==============================] - 1s 27ms/step - loss: 29.6197 - mse: 29.6197 - val_loss: 5.8937 - val_mse: 5.8937\n",
            "Epoch 20/30\n",
            "25/25 [==============================] - 1s 27ms/step - loss: 29.4637 - mse: 29.4637 - val_loss: 5.8507 - val_mse: 5.8507\n",
            "Epoch 21/30\n",
            "25/25 [==============================] - 1s 27ms/step - loss: 29.0714 - mse: 29.0714 - val_loss: 5.9202 - val_mse: 5.9202\n",
            "Epoch 22/30\n",
            "25/25 [==============================] - 1s 26ms/step - loss: 30.3669 - mse: 30.3669 - val_loss: 6.2658 - val_mse: 6.2658\n",
            "Epoch 23/30\n",
            "25/25 [==============================] - 1s 26ms/step - loss: 30.3222 - mse: 30.3222 - val_loss: 5.9806 - val_mse: 5.9806\n",
            "Epoch 24/30\n",
            "25/25 [==============================] - 1s 26ms/step - loss: 30.0536 - mse: 30.0536 - val_loss: 5.8747 - val_mse: 5.8747\n",
            "Epoch 25/30\n",
            "25/25 [==============================] - 1s 26ms/step - loss: 29.8724 - mse: 29.8724 - val_loss: 5.8615 - val_mse: 5.8615\n",
            "Epoch 26/30\n",
            "25/25 [==============================] - 1s 28ms/step - loss: 29.3740 - mse: 29.3740 - val_loss: 6.0774 - val_mse: 6.0774\n",
            "Epoch 27/30\n",
            "25/25 [==============================] - 1s 26ms/step - loss: 29.3841 - mse: 29.3841 - val_loss: 5.9569 - val_mse: 5.9569\n",
            "Epoch 28/30\n",
            "25/25 [==============================] - 1s 27ms/step - loss: 29.5634 - mse: 29.5634 - val_loss: 5.7227 - val_mse: 5.7227\n",
            "Epoch 29/30\n",
            "25/25 [==============================] - 1s 26ms/step - loss: 28.9536 - mse: 28.9536 - val_loss: 5.8788 - val_mse: 5.8788\n",
            "Epoch 30/30\n",
            "25/25 [==============================] - 1s 27ms/step - loss: 28.5644 - mse: 28.5644 - val_loss: 5.8704 - val_mse: 5.8704\n"
          ]
        }
      ]
    },
    {
      "cell_type": "code",
      "source": [
        "def plot_loss(history):\n",
        "  fig = plt.figure(figsize=(7,7))\n",
        "  plt.plot(history.history['mse'], label='mse')\n",
        "  plt.plot(history.history['val_mse'], label='val_mse')\n",
        "  plt.xlabel('Epoch')\n",
        "  plt.ylabel('Error')\n",
        "  plt.legend()\n",
        "  plt.grid(True)\n",
        "\n",
        "plot_loss(history)"
      ],
      "metadata": {
        "id": "RUquDCgc-yp_",
        "colab": {
          "base_uri": "https://localhost:8080/",
          "height": 442
        },
        "outputId": "3fb32beb-3d95-40f9-9143-99254c0cfb9a"
      },
      "execution_count": null,
      "outputs": [
        {
          "output_type": "display_data",
          "data": {
            "image/png": "[encoded data removed]",
            "text/plain": [
              "<Figure size 504x504 with 1 Axes>"
            ]
          },
          "metadata": {
            "needs_background": "light"
          }
        }
      ]
    },
    {
      "cell_type": "code",
      "source": [
        "predicted_stock_price = keras_reg.predict(X_test)\n",
        "\n",
        "from sklearn.metrics import mean_squared_error\n",
        "\n",
        "mean_squared_error(y_test, predicted_stock_price)/len(y_test)"
      ],
      "metadata": {
        "colab": {
          "base_uri": "https://localhost:8080/"
        },
        "id": "YyzU4kkxG_ZP",
        "outputId": "1ac280f2-94f2-468d-fce0-8da3de8b28af"
      },
      "execution_count": null,
      "outputs": [
        {
          "output_type": "execute_result",
          "data": {
            "text/plain": [
              "0.008480172205452967"
            ]
          },
          "metadata": {},
          "execution_count": 22
        }
      ]
    },
    {
      "cell_type": "code",
      "source": [
        ""
      ],
      "metadata": {
        "id": "-egu14HEHE3X"
      },
      "execution_count": null,
      "outputs": []
    }
  ]
}