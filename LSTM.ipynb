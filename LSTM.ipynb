{
  "nbformat": 4,
  "nbformat_minor": 0,
  "metadata": {
    "colab": {
      "name": "time_series.ipynb",
      "provenance": [],
      "collapsed_sections": [],
      "include_colab_link": true
    },
    "kernelspec": {
      "name": "python3",
      "display_name": "Python 3"
    },
    "language_info": {
      "name": "python"
    },
    "accelerator": "GPU"
  },
  "cells": [
    {
      "cell_type": "markdown",
      "metadata": {
        "id": "view-in-github",
        "colab_type": "text"
      },
      "source": [
        "<a href=\"https://colab.research.google.com/github/zahraDehghanian97/SCINet/blob/master/LSTM.ipynb\" target=\"_parent\"><img src=\"https://colab.research.google.com/assets/colab-badge.svg\" alt=\"Open In Colab\"/></a>"
      ]
    },
    {
      "cell_type": "markdown",
      "source": [
        "# **Data Preprocess**"
      ],
      "metadata": {
        "id": "a5d6bSTsBPuU"
      }
    },
    {
      "cell_type": "code",
      "source": [
        "import pandas as pd\n",
        "df = pd.read_csv('/content/MCIRD_aaic2021_train.csv', header=0)\n",
        "df.head()\n"
      ],
      "metadata": {
        "id": "Q1_5mdwjYBLw",
        "colab": {
          "base_uri": "https://localhost:8080/",
          "height": 270
        },
        "outputId": "c25ec9a8-fc8c-4ae2-d9f1-063ad48aef8a"
      },
      "execution_count": 1,
      "outputs": [
        {
          "output_type": "execute_result",
          "data": {
            "text/html": [
              "\n",
              "  <div id=\"df-f0176f2c-0c7c-4107-bd08-0b0699c95627\">\n",
              "    <div class=\"colab-df-container\">\n",
              "      <div>\n",
              "<style scoped>\n",
              "    .dataframe tbody tr th:only-of-type {\n",
              "        vertical-align: middle;\n",
              "    }\n",
              "\n",
              "    .dataframe tbody tr th {\n",
              "        vertical-align: top;\n",
              "    }\n",
              "\n",
              "    .dataframe thead th {\n",
              "        text-align: right;\n",
              "    }\n",
              "</style>\n",
              "<table border=\"1\" class=\"dataframe\">\n",
              "  <thead>\n",
              "    <tr style=\"text-align: right;\">\n",
              "      <th></th>\n",
              "      <th>day</th>\n",
              "      <th>subscriber_ecid</th>\n",
              "      <th>subscriber_gender</th>\n",
              "      <th>subscriber_age</th>\n",
              "      <th>registration_province</th>\n",
              "      <th>months_of_subscription</th>\n",
              "      <th>most_used_province</th>\n",
              "      <th>is_usage_nonzero</th>\n",
              "      <th>subscriber_total_expenses</th>\n",
              "      <th>nonpackage_voice_expenses</th>\n",
              "      <th>package_voice_noncash_expenses</th>\n",
              "      <th>is_voice_expenses_nonzero</th>\n",
              "      <th>is_voice_usage_nonzero</th>\n",
              "      <th>call_in_network_duration</th>\n",
              "      <th>call_off_netwrok_duration</th>\n",
              "      <th>nonpackage_call_in_network_expenses</th>\n",
              "      <th>nonpackage_call_off_network_expenses</th>\n",
              "      <th>total_call_duration</th>\n",
              "      <th>#inter_operator_calls</th>\n",
              "      <th>xyz_score</th>\n",
              "      <th>hxr_score</th>\n",
              "      <th>data_cash_expenses</th>\n",
              "      <th>nonpackage_data_expenses</th>\n",
              "      <th>package_data_noncash_expenses</th>\n",
              "      <th>subscriber_data_expenses</th>\n",
              "      <th>subscriber_nondata_expenses</th>\n",
              "      <th>data_usage_volume</th>\n",
              "      <th>is_data_expenses_nonzero</th>\n",
              "      <th>is_data_usage_nonzero</th>\n",
              "      <th>#activated_monthly_data_packages</th>\n",
              "      <th>#activated_short_term_data_packages</th>\n",
              "      <th>#activated_type_one_data_packages</th>\n",
              "      <th>#activated_type_two_data_packages</th>\n",
              "      <th>#activated_type_three_data_packages</th>\n",
              "    </tr>\n",
              "  </thead>\n",
              "  <tbody>\n",
              "    <tr>\n",
              "      <th>0</th>\n",
              "      <td>(n)01</td>\n",
              "      <td>-06FoayTOXJ8-</td>\n",
              "      <td>1</td>\n",
              "      <td>36.0</td>\n",
              "      <td>8</td>\n",
              "      <td>188</td>\n",
              "      <td>8</td>\n",
              "      <td>1</td>\n",
              "      <td>-0.132373</td>\n",
              "      <td>-0.072802</td>\n",
              "      <td>0.0</td>\n",
              "      <td>1</td>\n",
              "      <td>1</td>\n",
              "      <td>-0.155626</td>\n",
              "      <td>0.0</td>\n",
              "      <td>-0.256454</td>\n",
              "      <td>0.0</td>\n",
              "      <td>-0.220797</td>\n",
              "      <td>0.0</td>\n",
              "      <td>0.031219</td>\n",
              "      <td>38.192862</td>\n",
              "      <td>0.0</td>\n",
              "      <td>0.0</td>\n",
              "      <td>0.0</td>\n",
              "      <td>0.0</td>\n",
              "      <td>-0.104687</td>\n",
              "      <td>0.072258</td>\n",
              "      <td>0</td>\n",
              "      <td>1</td>\n",
              "      <td>0</td>\n",
              "      <td>0</td>\n",
              "      <td>0</td>\n",
              "      <td>0</td>\n",
              "      <td>0</td>\n",
              "    </tr>\n",
              "    <tr>\n",
              "      <th>1</th>\n",
              "      <td>(n)02</td>\n",
              "      <td>-06FoayTOXJ8-</td>\n",
              "      <td>1</td>\n",
              "      <td>36.0</td>\n",
              "      <td>8</td>\n",
              "      <td>188</td>\n",
              "      <td>8</td>\n",
              "      <td>1</td>\n",
              "      <td>-0.122445</td>\n",
              "      <td>-0.060440</td>\n",
              "      <td>0.0</td>\n",
              "      <td>1</td>\n",
              "      <td>1</td>\n",
              "      <td>-0.142857</td>\n",
              "      <td>0.0</td>\n",
              "      <td>0.036145</td>\n",
              "      <td>0.0</td>\n",
              "      <td>-0.210668</td>\n",
              "      <td>0.0</td>\n",
              "      <td>0.033491</td>\n",
              "      <td>38.144232</td>\n",
              "      <td>0.0</td>\n",
              "      <td>0.0</td>\n",
              "      <td>0.0</td>\n",
              "      <td>0.0</td>\n",
              "      <td>-0.092861</td>\n",
              "      <td>0.049563</td>\n",
              "      <td>0</td>\n",
              "      <td>1</td>\n",
              "      <td>0</td>\n",
              "      <td>0</td>\n",
              "      <td>0</td>\n",
              "      <td>0</td>\n",
              "      <td>0</td>\n",
              "    </tr>\n",
              "    <tr>\n",
              "      <th>2</th>\n",
              "      <td>(n)03</td>\n",
              "      <td>-06FoayTOXJ8-</td>\n",
              "      <td>1</td>\n",
              "      <td>36.0</td>\n",
              "      <td>8</td>\n",
              "      <td>188</td>\n",
              "      <td>8</td>\n",
              "      <td>1</td>\n",
              "      <td>0.343066</td>\n",
              "      <td>0.519231</td>\n",
              "      <td>0.0</td>\n",
              "      <td>1</td>\n",
              "      <td>1</td>\n",
              "      <td>0.418196</td>\n",
              "      <td>0.0</td>\n",
              "      <td>0.762478</td>\n",
              "      <td>0.0</td>\n",
              "      <td>0.264686</td>\n",
              "      <td>0.0</td>\n",
              "      <td>0.036831</td>\n",
              "      <td>37.990377</td>\n",
              "      <td>0.0</td>\n",
              "      <td>0.0</td>\n",
              "      <td>0.0</td>\n",
              "      <td>0.0</td>\n",
              "      <td>0.461665</td>\n",
              "      <td>-0.013977</td>\n",
              "      <td>0</td>\n",
              "      <td>0</td>\n",
              "      <td>0</td>\n",
              "      <td>0</td>\n",
              "      <td>0</td>\n",
              "      <td>0</td>\n",
              "      <td>0</td>\n",
              "    </tr>\n",
              "    <tr>\n",
              "      <th>3</th>\n",
              "      <td>(n)04</td>\n",
              "      <td>-06FoayTOXJ8-</td>\n",
              "      <td>1</td>\n",
              "      <td>36.0</td>\n",
              "      <td>8</td>\n",
              "      <td>188</td>\n",
              "      <td>8</td>\n",
              "      <td>1</td>\n",
              "      <td>1.869763</td>\n",
              "      <td>2.420329</td>\n",
              "      <td>0.0</td>\n",
              "      <td>1</td>\n",
              "      <td>1</td>\n",
              "      <td>2.259377</td>\n",
              "      <td>0.0</td>\n",
              "      <td>3.144579</td>\n",
              "      <td>0.0</td>\n",
              "      <td>1.821742</td>\n",
              "      <td>0.0</td>\n",
              "      <td>0.039942</td>\n",
              "      <td>37.777398</td>\n",
              "      <td>0.0</td>\n",
              "      <td>0.0</td>\n",
              "      <td>0.0</td>\n",
              "      <td>0.0</td>\n",
              "      <td>2.280301</td>\n",
              "      <td>0.000403</td>\n",
              "      <td>0</td>\n",
              "      <td>1</td>\n",
              "      <td>0</td>\n",
              "      <td>0</td>\n",
              "      <td>0</td>\n",
              "      <td>0</td>\n",
              "      <td>0</td>\n",
              "    </tr>\n",
              "    <tr>\n",
              "      <th>4</th>\n",
              "      <td>(n)05</td>\n",
              "      <td>-06FoayTOXJ8-</td>\n",
              "      <td>1</td>\n",
              "      <td>36.0</td>\n",
              "      <td>8</td>\n",
              "      <td>188</td>\n",
              "      <td>8</td>\n",
              "      <td>1</td>\n",
              "      <td>-0.233858</td>\n",
              "      <td>-0.199176</td>\n",
              "      <td>0.0</td>\n",
              "      <td>1</td>\n",
              "      <td>1</td>\n",
              "      <td>-0.277733</td>\n",
              "      <td>0.0</td>\n",
              "      <td>-0.137693</td>\n",
              "      <td>0.0</td>\n",
              "      <td>-0.324105</td>\n",
              "      <td>0.0</td>\n",
              "      <td>0.042694</td>\n",
              "      <td>37.545275</td>\n",
              "      <td>0.0</td>\n",
              "      <td>0.0</td>\n",
              "      <td>0.0</td>\n",
              "      <td>0.0</td>\n",
              "      <td>-0.225579</td>\n",
              "      <td>0.016209</td>\n",
              "      <td>0</td>\n",
              "      <td>1</td>\n",
              "      <td>0</td>\n",
              "      <td>0</td>\n",
              "      <td>0</td>\n",
              "      <td>0</td>\n",
              "      <td>0</td>\n",
              "    </tr>\n",
              "  </tbody>\n",
              "</table>\n",
              "</div>\n",
              "      <button class=\"colab-df-convert\" onclick=\"convertToInteractive('df-f0176f2c-0c7c-4107-bd08-0b0699c95627')\"\n",
              "              title=\"Convert this dataframe to an interactive table.\"\n",
              "              style=\"display:none;\">\n",
              "        \n",
              "  <svg xmlns=\"http://www.w3.org/2000/svg\" height=\"24px\"viewBox=\"0 0 24 24\"\n",
              "       width=\"24px\">\n",
              "    <path d=\"M0 0h24v24H0V0z\" fill=\"none\"/>\n",
              "    <path d=\"M18.56 5.44l.94 2.06.94-2.06 2.06-.94-2.06-.94-.94-2.06-.94 2.06-2.06.94zm-11 1L8.5 8.5l.94-2.06 2.06-.94-2.06-.94L8.5 2.5l-.94 2.06-2.06.94zm10 10l.94 2.06.94-2.06 2.06-.94-2.06-.94-.94-2.06-.94 2.06-2.06.94z\"/><path d=\"M17.41 7.96l-1.37-1.37c-.4-.4-.92-.59-1.43-.59-.52 0-1.04.2-1.43.59L10.3 9.45l-7.72 7.72c-.78.78-.78 2.05 0 2.83L4 21.41c.39.39.9.59 1.41.59.51 0 1.02-.2 1.41-.59l7.78-7.78 2.81-2.81c.8-.78.8-2.07 0-2.86zM5.41 20L4 18.59l7.72-7.72 1.47 1.35L5.41 20z\"/>\n",
              "  </svg>\n",
              "      </button>\n",
              "      \n",
              "  <style>\n",
              "    .colab-df-container {\n",
              "      display:flex;\n",
              "      flex-wrap:wrap;\n",
              "      gap: 12px;\n",
              "    }\n",
              "\n",
              "    .colab-df-convert {\n",
              "      background-color: #E8F0FE;\n",
              "      border: none;\n",
              "      border-radius: 50%;\n",
              "      cursor: pointer;\n",
              "      display: none;\n",
              "      fill: #1967D2;\n",
              "      height: 32px;\n",
              "      padding: 0 0 0 0;\n",
              "      width: 32px;\n",
              "    }\n",
              "\n",
              "    .colab-df-convert:hover {\n",
              "      background-color: #E2EBFA;\n",
              "      box-shadow: 0px 1px 2px rgba(60, 64, 67, 0.3), 0px 1px 3px 1px rgba(60, 64, 67, 0.15);\n",
              "      fill: #174EA6;\n",
              "    }\n",
              "\n",
              "    [theme=dark] .colab-df-convert {\n",
              "      background-color: #3B4455;\n",
              "      fill: #D2E3FC;\n",
              "    }\n",
              "\n",
              "    [theme=dark] .colab-df-convert:hover {\n",
              "      background-color: #434B5C;\n",
              "      box-shadow: 0px 1px 3px 1px rgba(0, 0, 0, 0.15);\n",
              "      filter: drop-shadow(0px 1px 2px rgba(0, 0, 0, 0.3));\n",
              "      fill: #FFFFFF;\n",
              "    }\n",
              "  </style>\n",
              "\n",
              "      <script>\n",
              "        const buttonEl =\n",
              "          document.querySelector('#df-f0176f2c-0c7c-4107-bd08-0b0699c95627 button.colab-df-convert');\n",
              "        buttonEl.style.display =\n",
              "          google.colab.kernel.accessAllowed ? 'block' : 'none';\n",
              "\n",
              "        async function convertToInteractive(key) {\n",
              "          const element = document.querySelector('#df-f0176f2c-0c7c-4107-bd08-0b0699c95627');\n",
              "          const dataTable =\n",
              "            await google.colab.kernel.invokeFunction('convertToInteractive',\n",
              "                                                     [key], {});\n",
              "          if (!dataTable) return;\n",
              "\n",
              "          const docLinkHtml = 'Like what you see? Visit the ' +\n",
              "            '<a target=\"_blank\" href=https://colab.research.google.com/notebooks/data_table.ipynb>data table notebook</a>'\n",
              "            + ' to learn more about interactive tables.';\n",
              "          element.innerHTML = '';\n",
              "          dataTable['output_type'] = 'display_data';\n",
              "          await google.colab.output.renderOutput(dataTable, element);\n",
              "          const docLink = document.createElement('div');\n",
              "          docLink.innerHTML = docLinkHtml;\n",
              "          element.appendChild(docLink);\n",
              "        }\n",
              "      </script>\n",
              "    </div>\n",
              "  </div>\n",
              "  "
            ],
            "text/plain": [
              "     day  ... #activated_type_three_data_packages\n",
              "0  (n)01  ...                                   0\n",
              "1  (n)02  ...                                   0\n",
              "2  (n)03  ...                                   0\n",
              "3  (n)04  ...                                   0\n",
              "4  (n)05  ...                                   0\n",
              "\n",
              "[5 rows x 34 columns]"
            ]
          },
          "metadata": {},
          "execution_count": 1
        }
      ]
    },
    {
      "cell_type": "code",
      "source": [
        "df1 = df[['subscriber_ecid', 'data_usage_volume']]\n",
        "df1.head()"
      ],
      "metadata": {
        "colab": {
          "base_uri": "https://localhost:8080/",
          "height": 206
        },
        "id": "81fTCpUMaKIh",
        "outputId": "c87cbb95-3439-4a7d-cd37-40bb6b8524ee"
      },
      "execution_count": 2,
      "outputs": [
        {
          "output_type": "execute_result",
          "data": {
            "text/html": [
              "\n",
              "  <div id=\"df-01dc66c1-a3ff-4171-8b64-387c0080b55b\">\n",
              "    <div class=\"colab-df-container\">\n",
              "      <div>\n",
              "<style scoped>\n",
              "    .dataframe tbody tr th:only-of-type {\n",
              "        vertical-align: middle;\n",
              "    }\n",
              "\n",
              "    .dataframe tbody tr th {\n",
              "        vertical-align: top;\n",
              "    }\n",
              "\n",
              "    .dataframe thead th {\n",
              "        text-align: right;\n",
              "    }\n",
              "</style>\n",
              "<table border=\"1\" class=\"dataframe\">\n",
              "  <thead>\n",
              "    <tr style=\"text-align: right;\">\n",
              "      <th></th>\n",
              "      <th>subscriber_ecid</th>\n",
              "      <th>data_usage_volume</th>\n",
              "    </tr>\n",
              "  </thead>\n",
              "  <tbody>\n",
              "    <tr>\n",
              "      <th>0</th>\n",
              "      <td>-06FoayTOXJ8-</td>\n",
              "      <td>0.072258</td>\n",
              "    </tr>\n",
              "    <tr>\n",
              "      <th>1</th>\n",
              "      <td>-06FoayTOXJ8-</td>\n",
              "      <td>0.049563</td>\n",
              "    </tr>\n",
              "    <tr>\n",
              "      <th>2</th>\n",
              "      <td>-06FoayTOXJ8-</td>\n",
              "      <td>-0.013977</td>\n",
              "    </tr>\n",
              "    <tr>\n",
              "      <th>3</th>\n",
              "      <td>-06FoayTOXJ8-</td>\n",
              "      <td>0.000403</td>\n",
              "    </tr>\n",
              "    <tr>\n",
              "      <th>4</th>\n",
              "      <td>-06FoayTOXJ8-</td>\n",
              "      <td>0.016209</td>\n",
              "    </tr>\n",
              "  </tbody>\n",
              "</table>\n",
              "</div>\n",
              "      <button class=\"colab-df-convert\" onclick=\"convertToInteractive('df-01dc66c1-a3ff-4171-8b64-387c0080b55b')\"\n",
              "              title=\"Convert this dataframe to an interactive table.\"\n",
              "              style=\"display:none;\">\n",
              "        \n",
              "  <svg xmlns=\"http://www.w3.org/2000/svg\" height=\"24px\"viewBox=\"0 0 24 24\"\n",
              "       width=\"24px\">\n",
              "    <path d=\"M0 0h24v24H0V0z\" fill=\"none\"/>\n",
              "    <path d=\"M18.56 5.44l.94 2.06.94-2.06 2.06-.94-2.06-.94-.94-2.06-.94 2.06-2.06.94zm-11 1L8.5 8.5l.94-2.06 2.06-.94-2.06-.94L8.5 2.5l-.94 2.06-2.06.94zm10 10l.94 2.06.94-2.06 2.06-.94-2.06-.94-.94-2.06-.94 2.06-2.06.94z\"/><path d=\"M17.41 7.96l-1.37-1.37c-.4-.4-.92-.59-1.43-.59-.52 0-1.04.2-1.43.59L10.3 9.45l-7.72 7.72c-.78.78-.78 2.05 0 2.83L4 21.41c.39.39.9.59 1.41.59.51 0 1.02-.2 1.41-.59l7.78-7.78 2.81-2.81c.8-.78.8-2.07 0-2.86zM5.41 20L4 18.59l7.72-7.72 1.47 1.35L5.41 20z\"/>\n",
              "  </svg>\n",
              "      </button>\n",
              "      \n",
              "  <style>\n",
              "    .colab-df-container {\n",
              "      display:flex;\n",
              "      flex-wrap:wrap;\n",
              "      gap: 12px;\n",
              "    }\n",
              "\n",
              "    .colab-df-convert {\n",
              "      background-color: #E8F0FE;\n",
              "      border: none;\n",
              "      border-radius: 50%;\n",
              "      cursor: pointer;\n",
              "      display: none;\n",
              "      fill: #1967D2;\n",
              "      height: 32px;\n",
              "      padding: 0 0 0 0;\n",
              "      width: 32px;\n",
              "    }\n",
              "\n",
              "    .colab-df-convert:hover {\n",
              "      background-color: #E2EBFA;\n",
              "      box-shadow: 0px 1px 2px rgba(60, 64, 67, 0.3), 0px 1px 3px 1px rgba(60, 64, 67, 0.15);\n",
              "      fill: #174EA6;\n",
              "    }\n",
              "\n",
              "    [theme=dark] .colab-df-convert {\n",
              "      background-color: #3B4455;\n",
              "      fill: #D2E3FC;\n",
              "    }\n",
              "\n",
              "    [theme=dark] .colab-df-convert:hover {\n",
              "      background-color: #434B5C;\n",
              "      box-shadow: 0px 1px 3px 1px rgba(0, 0, 0, 0.15);\n",
              "      filter: drop-shadow(0px 1px 2px rgba(0, 0, 0, 0.3));\n",
              "      fill: #FFFFFF;\n",
              "    }\n",
              "  </style>\n",
              "\n",
              "      <script>\n",
              "        const buttonEl =\n",
              "          document.querySelector('#df-01dc66c1-a3ff-4171-8b64-387c0080b55b button.colab-df-convert');\n",
              "        buttonEl.style.display =\n",
              "          google.colab.kernel.accessAllowed ? 'block' : 'none';\n",
              "\n",
              "        async function convertToInteractive(key) {\n",
              "          const element = document.querySelector('#df-01dc66c1-a3ff-4171-8b64-387c0080b55b');\n",
              "          const dataTable =\n",
              "            await google.colab.kernel.invokeFunction('convertToInteractive',\n",
              "                                                     [key], {});\n",
              "          if (!dataTable) return;\n",
              "\n",
              "          const docLinkHtml = 'Like what you see? Visit the ' +\n",
              "            '<a target=\"_blank\" href=https://colab.research.google.com/notebooks/data_table.ipynb>data table notebook</a>'\n",
              "            + ' to learn more about interactive tables.';\n",
              "          element.innerHTML = '';\n",
              "          dataTable['output_type'] = 'display_data';\n",
              "          await google.colab.output.renderOutput(dataTable, element);\n",
              "          const docLink = document.createElement('div');\n",
              "          docLink.innerHTML = docLinkHtml;\n",
              "          element.appendChild(docLink);\n",
              "        }\n",
              "      </script>\n",
              "    </div>\n",
              "  </div>\n",
              "  "
            ],
            "text/plain": [
              "  subscriber_ecid  data_usage_volume\n",
              "0   -06FoayTOXJ8-           0.072258\n",
              "1   -06FoayTOXJ8-           0.049563\n",
              "2   -06FoayTOXJ8-          -0.013977\n",
              "3   -06FoayTOXJ8-           0.000403\n",
              "4   -06FoayTOXJ8-           0.016209"
            ]
          },
          "metadata": {},
          "execution_count": 2
        }
      ]
    },
    {
      "cell_type": "markdown",
      "source": [
        "خیلی از مقادیر دیتاست -0.0139766307813943 این هستن و میشه به راحتی اینارو جایگزین کرد"
      ],
      "metadata": {
        "id": "FIbHY88f-RVu"
      }
    },
    {
      "cell_type": "code",
      "source": [
        "unique_sub_id = set(df1['subscriber_ecid'].values)"
      ],
      "metadata": {
        "id": "fiyCu2I9aLYa"
      },
      "execution_count": 3,
      "outputs": []
    },
    {
      "cell_type": "code",
      "source": [
        "len(unique_sub_id)"
      ],
      "metadata": {
        "colab": {
          "base_uri": "https://localhost:8080/"
        },
        "id": "roCLyU7Ra9vX",
        "outputId": "a385dd80-62f0-4181-df0b-5b802abcd5e6"
      },
      "execution_count": 4,
      "outputs": [
        {
          "output_type": "execute_result",
          "data": {
            "text/plain": [
              "100"
            ]
          },
          "metadata": {},
          "execution_count": 4
        }
      ]
    },
    {
      "cell_type": "markdown",
      "source": [
        "use just sample with 69 element"
      ],
      "metadata": {
        "id": "-nIr2Z0gAeOK"
      }
    },
    {
      "cell_type": "code",
      "source": [
        "import numpy as np\n",
        "data_list = []\n",
        "for sub_id in unique_sub_id:\n",
        "    # print(sub_id)\n",
        "    temp = df1[df1['subscriber_ecid']==sub_id].values\n",
        "    if temp.shape[0] < 69:\n",
        "        print(temp.shape)\n",
        "        print(sub_id)\n",
        "    else:\n",
        "        data_list.append(temp)"
      ],
      "metadata": {
        "id": "pf0OFb_Oc5Ri",
        "colab": {
          "base_uri": "https://localhost:8080/"
        },
        "outputId": "1cb5fc48-40ef-4f53-a2c2-1c309b91394c"
      },
      "execution_count": 5,
      "outputs": [
        {
          "output_type": "stream",
          "name": "stdout",
          "text": [
            "(60, 2)\n",
            "-QXHomYaJxYXi\n",
            "(61, 2)\n",
            "0o-xDa8uTNBGu\n",
            "(1, 2)\n",
            "37v4v4PPObMC_\n",
            "(18, 2)\n",
            "1EN04BS-9nKgc\n",
            "(1, 2)\n",
            "32ez6CX89v6KZ\n",
            "(68, 2)\n",
            "-DgEYYT0gqMqr\n",
            "(67, 2)\n",
            "-XU6p4P-782mp\n",
            "(2, 2)\n",
            "28gWxNYMU_2dg\n",
            "(53, 2)\n",
            "0T7ixhiDdZ8TL\n",
            "(22, 2)\n",
            "-gjfIaG2oxwzj\n"
          ]
        }
      ]
    },
    {
      "cell_type": "markdown",
      "source": [
        "data plot"
      ],
      "metadata": {
        "id": "CnZL__b1BDU4"
      }
    },
    {
      "cell_type": "code",
      "source": [
        "import matplotlib.pyplot as plt\n",
        "for j in range(len(data_list)) :\n",
        "  one_sample = data_list[j]\n",
        "  y = one_sample[:,1]\n",
        "  x = []\n",
        "\n",
        "  for i in range(len(one_sample[:,1])):\n",
        "    x.append(i)\n",
        "  plt.plot(x,y)\n",
        "\n",
        "plt.show()"
      ],
      "metadata": {
        "colab": {
          "base_uri": "https://localhost:8080/",
          "height": 265
        },
        "id": "htEgvxLzNxFV",
        "outputId": "38fe855e-95df-4758-8d72-cd300f320ae1"
      },
      "execution_count": 6,
      "outputs": [
        {
          "output_type": "display_data",
          "data": {
            "image/png": "[encoded data removed]",
            "text/plain": [
              "<Figure size 432x288 with 1 Axes>"
            ]
          },
          "metadata": {
            "needs_background": "light"
          }
        }
      ]
    },
    {
      "cell_type": "markdown",
      "source": [
        "# **LSTM Model**"
      ],
      "metadata": {
        "id": "D6lHVlRFC8GS"
      }
    },
    {
      "cell_type": "code",
      "source": [
        "X = []\n",
        "y = []\n",
        "mem_step = 14\n",
        "\n",
        "for item in data_list:\n",
        "  for i in range(mem_step, 69):\n",
        "      X.append(item[i-mem_step:i, 1:2])\n",
        "      # print(item[i-mem_step:i, 1:2])\n",
        "      y.append(item[i, 1:2])\n",
        "\n",
        "X, y = np.array(X), np.array(y)\n",
        "X, y = X.astype('float32'), y.astype('float32')"
      ],
      "metadata": {
        "id": "q9KgyTlo6X1n"
      },
      "execution_count": 7,
      "outputs": []
    },
    {
      "cell_type": "code",
      "source": [
        " from sklearn.model_selection import train_test_split\n",
        " X_train, X_test, y_train, y_test = train_test_split(X, y, test_size=0.2, random_state=42)"
      ],
      "metadata": {
        "id": "UX3AZtLFLiRQ"
      },
      "execution_count": 8,
      "outputs": []
    },
    {
      "cell_type": "code",
      "source": [
        "import tensorflow as tf\n",
        "import pandas as pd\n",
        "import numpy as np\n",
        "from tensorflow import keras\n",
        "import matplotlib.pyplot as plt\n",
        "\n",
        "from keras.models import Sequential\n",
        "from keras.layers import Dense\n",
        "from keras.layers import LSTM\n",
        "from keras.layers import Dropout\n",
        "\n",
        "# check GPU availability\n",
        "print(\"GPU is available :)\" if tf.config.list_physical_devices(\"GPU\") else \"Not available :(\")\n",
        "\n",
        "import warnings\n",
        "warnings.filterwarnings(\"ignore\")"
      ],
      "metadata": {
        "id": "I3Pg1xdd56x8",
        "colab": {
          "base_uri": "https://localhost:8080/"
        },
        "outputId": "e4a0800e-1989-4980-eefc-92fe933e99b9"
      },
      "execution_count": 9,
      "outputs": [
        {
          "output_type": "stream",
          "name": "stdout",
          "text": [
            "GPU is available :)\n"
          ]
        }
      ]
    },
    {
      "cell_type": "code",
      "source": [
        "from tensorflow.keras.backend import clear_session \n",
        "clear_session()\n",
        "keras_reg = Sequential()\n",
        "\n",
        "keras_reg.add(LSTM(units = 64, return_sequences = True, input_shape = (X.shape[1], 1)))\n",
        "keras_reg.add(Dropout(0.4))\n",
        "\n",
        "keras_reg.add(LSTM(units = 100, return_sequences = True))\n",
        "keras_reg.add(Dropout(0.4))\n",
        "\n",
        "keras_reg.add(LSTM(units = 100, return_sequences = True))\n",
        "keras_reg.add(Dropout(0.2))\n",
        "\n",
        "keras_reg.add(LSTM(units = 16))\n",
        "keras_reg.add(Dropout(0.2))\n",
        "\n",
        "# keras_reg.add(Dense(units=32, activation='relu' ))\n",
        "keras_reg.add(Dense(units=16, activation='relu' ))\n",
        "keras_reg.add(Dense(units = 1))\n",
        "keras_reg.compile(optimizer = 'adam',\n",
        "                  loss = 'mean_squared_error',\n",
        "                  metrics='mse')\n",
        "# keras_reg.compile(optimizer = 'rmsprop', loss = 'mean_squared_error')\n",
        "history = keras_reg.fit(X_train, y_train,validation_split=0.2,shuffle=False,epochs = 30,verbose = 1)"
      ],
      "metadata": {
        "id": "s2T66OoKAM3v",
        "colab": {
          "base_uri": "https://localhost:8080/"
        },
        "outputId": "153f593d-c852-498b-e360-2eec21597533"
      },
      "execution_count": 35,
      "outputs": [
        {
          "output_type": "stream",
          "name": "stdout",
          "text": [
            "Epoch 1/30\n",
            "99/99 [==============================] - 8s 28ms/step - loss: 14.3707 - mse: 14.3707 - val_loss: 5.4612 - val_mse: 5.4612\n",
            "Epoch 2/30\n",
            "99/99 [==============================] - 1s 11ms/step - loss: 13.0289 - mse: 13.0289 - val_loss: 5.0439 - val_mse: 5.0439\n",
            "Epoch 3/30\n",
            "99/99 [==============================] - 1s 11ms/step - loss: 12.5689 - mse: 12.5689 - val_loss: 4.7255 - val_mse: 4.7255\n",
            "Epoch 4/30\n",
            "99/99 [==============================] - 1s 11ms/step - loss: 12.4230 - mse: 12.4230 - val_loss: 4.5919 - val_mse: 4.5919\n",
            "Epoch 5/30\n",
            "99/99 [==============================] - 1s 11ms/step - loss: 12.0877 - mse: 12.0877 - val_loss: 4.2216 - val_mse: 4.2216\n",
            "Epoch 6/30\n",
            "99/99 [==============================] - 1s 11ms/step - loss: 12.0400 - mse: 12.0400 - val_loss: 4.1053 - val_mse: 4.1053\n",
            "Epoch 7/30\n",
            "99/99 [==============================] - 1s 11ms/step - loss: 11.7191 - mse: 11.7191 - val_loss: 3.9907 - val_mse: 3.9907\n",
            "Epoch 8/30\n",
            "99/99 [==============================] - 1s 11ms/step - loss: 11.6767 - mse: 11.6767 - val_loss: 3.8909 - val_mse: 3.8909\n",
            "Epoch 9/30\n",
            "99/99 [==============================] - 1s 11ms/step - loss: 11.7431 - mse: 11.7431 - val_loss: 3.9236 - val_mse: 3.9236\n",
            "Epoch 10/30\n",
            "99/99 [==============================] - 1s 11ms/step - loss: 11.5723 - mse: 11.5723 - val_loss: 4.0515 - val_mse: 4.0515\n",
            "Epoch 11/30\n",
            "99/99 [==============================] - 1s 11ms/step - loss: 11.5108 - mse: 11.5108 - val_loss: 4.0628 - val_mse: 4.0628\n",
            "Epoch 12/30\n",
            "99/99 [==============================] - 1s 11ms/step - loss: 11.4352 - mse: 11.4352 - val_loss: 3.9515 - val_mse: 3.9515\n",
            "Epoch 13/30\n",
            "99/99 [==============================] - 1s 11ms/step - loss: 11.5064 - mse: 11.5064 - val_loss: 3.9903 - val_mse: 3.9903\n",
            "Epoch 14/30\n",
            "99/99 [==============================] - 1s 11ms/step - loss: 11.2429 - mse: 11.2429 - val_loss: 3.9862 - val_mse: 3.9862\n",
            "Epoch 15/30\n",
            "99/99 [==============================] - 1s 11ms/step - loss: 11.3599 - mse: 11.3599 - val_loss: 4.1523 - val_mse: 4.1523\n",
            "Epoch 16/30\n",
            "99/99 [==============================] - 1s 11ms/step - loss: 11.2702 - mse: 11.2702 - val_loss: 4.1504 - val_mse: 4.1504\n",
            "Epoch 17/30\n",
            "99/99 [==============================] - 1s 11ms/step - loss: 11.4893 - mse: 11.4893 - val_loss: 4.2371 - val_mse: 4.2371\n",
            "Epoch 18/30\n",
            "99/99 [==============================] - 1s 11ms/step - loss: 11.2904 - mse: 11.2904 - val_loss: 4.2310 - val_mse: 4.2310\n",
            "Epoch 19/30\n",
            "99/99 [==============================] - 1s 11ms/step - loss: 10.9230 - mse: 10.9230 - val_loss: 4.1002 - val_mse: 4.1002\n",
            "Epoch 20/30\n",
            "99/99 [==============================] - 1s 11ms/step - loss: 11.3282 - mse: 11.3282 - val_loss: 4.6562 - val_mse: 4.6562\n",
            "Epoch 21/30\n",
            "99/99 [==============================] - 1s 11ms/step - loss: 10.9069 - mse: 10.9069 - val_loss: 4.2636 - val_mse: 4.2636\n",
            "Epoch 22/30\n",
            "99/99 [==============================] - 1s 11ms/step - loss: 10.9787 - mse: 10.9787 - val_loss: 4.1366 - val_mse: 4.1366\n",
            "Epoch 23/30\n",
            "99/99 [==============================] - 1s 11ms/step - loss: 10.8652 - mse: 10.8652 - val_loss: 4.1003 - val_mse: 4.1003\n",
            "Epoch 24/30\n",
            "99/99 [==============================] - 1s 11ms/step - loss: 10.9224 - mse: 10.9224 - val_loss: 4.1032 - val_mse: 4.1032\n",
            "Epoch 25/30\n",
            "99/99 [==============================] - 1s 11ms/step - loss: 10.9260 - mse: 10.9260 - val_loss: 4.3015 - val_mse: 4.3015\n",
            "Epoch 26/30\n",
            "99/99 [==============================] - 1s 11ms/step - loss: 10.4223 - mse: 10.4223 - val_loss: 4.1306 - val_mse: 4.1306\n",
            "Epoch 27/30\n",
            "99/99 [==============================] - 1s 13ms/step - loss: 10.7209 - mse: 10.7209 - val_loss: 4.1024 - val_mse: 4.1024\n",
            "Epoch 28/30\n",
            "99/99 [==============================] - 2s 20ms/step - loss: 10.7294 - mse: 10.7294 - val_loss: 4.4491 - val_mse: 4.4491\n",
            "Epoch 29/30\n",
            "99/99 [==============================] - 2s 19ms/step - loss: 11.0960 - mse: 11.0960 - val_loss: 4.2069 - val_mse: 4.2069\n",
            "Epoch 30/30\n",
            "99/99 [==============================] - 2s 18ms/step - loss: 10.3782 - mse: 10.3782 - val_loss: 4.3662 - val_mse: 4.3662\n"
          ]
        }
      ]
    },
    {
      "cell_type": "code",
      "source": [
        "from math import sqrt\n",
        "\n",
        "def plot_loss(history):\n",
        "  fig = plt.figure(figsize=(7,7))\n",
        "  plt.plot(history.history['mse'], label='mse')\n",
        "  plt.plot(history.history['val_mse'], label='val_mse')\n",
        "  plt.xlabel('Epoch')\n",
        "  plt.ylabel('Error')\n",
        "  plt.legend()\n",
        "  plt.grid(True)\n",
        "\n",
        "plot_loss(history)\n",
        "\n",
        "predicted_stock_price = keras_reg.predict(X_test)\n",
        "from sklearn.metrics import mean_squared_error\n",
        "print(sqrt(mean_squared_error(y_test, predicted_stock_price)))"
      ],
      "metadata": {
        "id": "RUquDCgc-yp_",
        "colab": {
          "base_uri": "https://localhost:8080/",
          "height": 459
        },
        "outputId": "3fe6724c-a0f7-47db-812c-78a9090e53dc"
      },
      "execution_count": 36,
      "outputs": [
        {
          "output_type": "stream",
          "name": "stdout",
          "text": [
            "2.784862872023127\n"
          ]
        },
        {
          "output_type": "display_data",
          "data": {
            "image/png": "[encoded data removed]",
            "text/plain": [
              "<Figure size 504x504 with 1 Axes>"
            ]
          },
          "metadata": {
            "needs_background": "light"
          }
        }
      ]
    }
  ]
}