{
  "nbformat": 4,
  "nbformat_minor": 0,
  "metadata": {
    "colab": {
      "name": "time_series.ipynb",
      "provenance": [],
      "collapsed_sections": [],
      "include_colab_link": true
    },
    "kernelspec": {
      "name": "python3",
      "display_name": "Python 3"
    },
    "language_info": {
      "name": "python"
    },
    "accelerator": "GPU"
  },
  "cells": [
    {
      "cell_type": "markdown",
      "metadata": {
        "id": "view-in-github",
        "colab_type": "text"
      },
      "source": [
        "<a href=\"https://colab.research.google.com/github/zahraDehghanian97/SCINet/blob/master/LSTM.ipynb\" target=\"_parent\"><img src=\"https://colab.research.google.com/assets/colab-badge.svg\" alt=\"Open In Colab\"/></a>"
      ]
    },
    {
      "cell_type": "markdown",
      "source": [
        "# **Data Preprocess**"
      ],
      "metadata": {
        "id": "a5d6bSTsBPuU"
      }
    },
    {
      "cell_type": "code",
      "source": [
        "import pandas as pd\n",
        "df = pd.read_csv('/content/MCIRD_aaic2021_train.csv', header=0)\n",
        "df.head()\n"
      ],
      "metadata": {
        "id": "Q1_5mdwjYBLw",
        "colab": {
          "base_uri": "https://localhost:8080/",
          "height": 270
        },
        "outputId": "f1bb4a51-3545-42f4-8e81-206c4217b7c0"
      },
      "execution_count": 1,
      "outputs": [
        {
          "output_type": "execute_result",
          "data": {
            "text/html": [
              "\n",
              "  <div id=\"df-000a6ffd-4c22-4da6-8177-876f53ba2a7a\">\n",
              "    <div class=\"colab-df-container\">\n",
              "      <div>\n",
              "<style scoped>\n",
              "    .dataframe tbody tr th:only-of-type {\n",
              "        vertical-align: middle;\n",
              "    }\n",
              "\n",
              "    .dataframe tbody tr th {\n",
              "        vertical-align: top;\n",
              "    }\n",
              "\n",
              "    .dataframe thead th {\n",
              "        text-align: right;\n",
              "    }\n",
              "</style>\n",
              "<table border=\"1\" class=\"dataframe\">\n",
              "  <thead>\n",
              "    <tr style=\"text-align: right;\">\n",
              "      <th></th>\n",
              "      <th>day</th>\n",
              "      <th>subscriber_ecid</th>\n",
              "      <th>subscriber_gender</th>\n",
              "      <th>subscriber_age</th>\n",
              "      <th>registration_province</th>\n",
              "      <th>months_of_subscription</th>\n",
              "      <th>most_used_province</th>\n",
              "      <th>is_usage_nonzero</th>\n",
              "      <th>subscriber_total_expenses</th>\n",
              "      <th>nonpackage_voice_expenses</th>\n",
              "      <th>package_voice_noncash_expenses</th>\n",
              "      <th>is_voice_expenses_nonzero</th>\n",
              "      <th>is_voice_usage_nonzero</th>\n",
              "      <th>call_in_network_duration</th>\n",
              "      <th>call_off_netwrok_duration</th>\n",
              "      <th>nonpackage_call_in_network_expenses</th>\n",
              "      <th>nonpackage_call_off_network_expenses</th>\n",
              "      <th>total_call_duration</th>\n",
              "      <th>#inter_operator_calls</th>\n",
              "      <th>xyz_score</th>\n",
              "      <th>hxr_score</th>\n",
              "      <th>data_cash_expenses</th>\n",
              "      <th>nonpackage_data_expenses</th>\n",
              "      <th>package_data_noncash_expenses</th>\n",
              "      <th>subscriber_data_expenses</th>\n",
              "      <th>subscriber_nondata_expenses</th>\n",
              "      <th>data_usage_volume</th>\n",
              "      <th>is_data_expenses_nonzero</th>\n",
              "      <th>is_data_usage_nonzero</th>\n",
              "      <th>#activated_monthly_data_packages</th>\n",
              "      <th>#activated_short_term_data_packages</th>\n",
              "      <th>#activated_type_one_data_packages</th>\n",
              "      <th>#activated_type_two_data_packages</th>\n",
              "      <th>#activated_type_three_data_packages</th>\n",
              "    </tr>\n",
              "  </thead>\n",
              "  <tbody>\n",
              "    <tr>\n",
              "      <th>0</th>\n",
              "      <td>(n)01</td>\n",
              "      <td>-06FoayTOXJ8-</td>\n",
              "      <td>1</td>\n",
              "      <td>36.0</td>\n",
              "      <td>8</td>\n",
              "      <td>188</td>\n",
              "      <td>8</td>\n",
              "      <td>1</td>\n",
              "      <td>-0.132373</td>\n",
              "      <td>-0.072802</td>\n",
              "      <td>0.0</td>\n",
              "      <td>1</td>\n",
              "      <td>1</td>\n",
              "      <td>-0.155626</td>\n",
              "      <td>0.0</td>\n",
              "      <td>-0.256454</td>\n",
              "      <td>0.0</td>\n",
              "      <td>-0.220797</td>\n",
              "      <td>0.0</td>\n",
              "      <td>0.031219</td>\n",
              "      <td>38.192862</td>\n",
              "      <td>0.0</td>\n",
              "      <td>0.0</td>\n",
              "      <td>0.0</td>\n",
              "      <td>0.0</td>\n",
              "      <td>-0.104687</td>\n",
              "      <td>0.072258</td>\n",
              "      <td>0</td>\n",
              "      <td>1</td>\n",
              "      <td>0</td>\n",
              "      <td>0</td>\n",
              "      <td>0</td>\n",
              "      <td>0</td>\n",
              "      <td>0</td>\n",
              "    </tr>\n",
              "    <tr>\n",
              "      <th>1</th>\n",
              "      <td>(n)02</td>\n",
              "      <td>-06FoayTOXJ8-</td>\n",
              "      <td>1</td>\n",
              "      <td>36.0</td>\n",
              "      <td>8</td>\n",
              "      <td>188</td>\n",
              "      <td>8</td>\n",
              "      <td>1</td>\n",
              "      <td>-0.122445</td>\n",
              "      <td>-0.060440</td>\n",
              "      <td>0.0</td>\n",
              "      <td>1</td>\n",
              "      <td>1</td>\n",
              "      <td>-0.142857</td>\n",
              "      <td>0.0</td>\n",
              "      <td>0.036145</td>\n",
              "      <td>0.0</td>\n",
              "      <td>-0.210668</td>\n",
              "      <td>0.0</td>\n",
              "      <td>0.033491</td>\n",
              "      <td>38.144232</td>\n",
              "      <td>0.0</td>\n",
              "      <td>0.0</td>\n",
              "      <td>0.0</td>\n",
              "      <td>0.0</td>\n",
              "      <td>-0.092861</td>\n",
              "      <td>0.049563</td>\n",
              "      <td>0</td>\n",
              "      <td>1</td>\n",
              "      <td>0</td>\n",
              "      <td>0</td>\n",
              "      <td>0</td>\n",
              "      <td>0</td>\n",
              "      <td>0</td>\n",
              "    </tr>\n",
              "    <tr>\n",
              "      <th>2</th>\n",
              "      <td>(n)03</td>\n",
              "      <td>-06FoayTOXJ8-</td>\n",
              "      <td>1</td>\n",
              "      <td>36.0</td>\n",
              "      <td>8</td>\n",
              "      <td>188</td>\n",
              "      <td>8</td>\n",
              "      <td>1</td>\n",
              "      <td>0.343066</td>\n",
              "      <td>0.519231</td>\n",
              "      <td>0.0</td>\n",
              "      <td>1</td>\n",
              "      <td>1</td>\n",
              "      <td>0.418196</td>\n",
              "      <td>0.0</td>\n",
              "      <td>0.762478</td>\n",
              "      <td>0.0</td>\n",
              "      <td>0.264686</td>\n",
              "      <td>0.0</td>\n",
              "      <td>0.036831</td>\n",
              "      <td>37.990377</td>\n",
              "      <td>0.0</td>\n",
              "      <td>0.0</td>\n",
              "      <td>0.0</td>\n",
              "      <td>0.0</td>\n",
              "      <td>0.461665</td>\n",
              "      <td>-0.013977</td>\n",
              "      <td>0</td>\n",
              "      <td>0</td>\n",
              "      <td>0</td>\n",
              "      <td>0</td>\n",
              "      <td>0</td>\n",
              "      <td>0</td>\n",
              "      <td>0</td>\n",
              "    </tr>\n",
              "    <tr>\n",
              "      <th>3</th>\n",
              "      <td>(n)04</td>\n",
              "      <td>-06FoayTOXJ8-</td>\n",
              "      <td>1</td>\n",
              "      <td>36.0</td>\n",
              "      <td>8</td>\n",
              "      <td>188</td>\n",
              "      <td>8</td>\n",
              "      <td>1</td>\n",
              "      <td>1.869763</td>\n",
              "      <td>2.420329</td>\n",
              "      <td>0.0</td>\n",
              "      <td>1</td>\n",
              "      <td>1</td>\n",
              "      <td>2.259377</td>\n",
              "      <td>0.0</td>\n",
              "      <td>3.144579</td>\n",
              "      <td>0.0</td>\n",
              "      <td>1.821742</td>\n",
              "      <td>0.0</td>\n",
              "      <td>0.039942</td>\n",
              "      <td>37.777398</td>\n",
              "      <td>0.0</td>\n",
              "      <td>0.0</td>\n",
              "      <td>0.0</td>\n",
              "      <td>0.0</td>\n",
              "      <td>2.280301</td>\n",
              "      <td>0.000403</td>\n",
              "      <td>0</td>\n",
              "      <td>1</td>\n",
              "      <td>0</td>\n",
              "      <td>0</td>\n",
              "      <td>0</td>\n",
              "      <td>0</td>\n",
              "      <td>0</td>\n",
              "    </tr>\n",
              "    <tr>\n",
              "      <th>4</th>\n",
              "      <td>(n)05</td>\n",
              "      <td>-06FoayTOXJ8-</td>\n",
              "      <td>1</td>\n",
              "      <td>36.0</td>\n",
              "      <td>8</td>\n",
              "      <td>188</td>\n",
              "      <td>8</td>\n",
              "      <td>1</td>\n",
              "      <td>-0.233858</td>\n",
              "      <td>-0.199176</td>\n",
              "      <td>0.0</td>\n",
              "      <td>1</td>\n",
              "      <td>1</td>\n",
              "      <td>-0.277733</td>\n",
              "      <td>0.0</td>\n",
              "      <td>-0.137693</td>\n",
              "      <td>0.0</td>\n",
              "      <td>-0.324105</td>\n",
              "      <td>0.0</td>\n",
              "      <td>0.042694</td>\n",
              "      <td>37.545275</td>\n",
              "      <td>0.0</td>\n",
              "      <td>0.0</td>\n",
              "      <td>0.0</td>\n",
              "      <td>0.0</td>\n",
              "      <td>-0.225579</td>\n",
              "      <td>0.016209</td>\n",
              "      <td>0</td>\n",
              "      <td>1</td>\n",
              "      <td>0</td>\n",
              "      <td>0</td>\n",
              "      <td>0</td>\n",
              "      <td>0</td>\n",
              "      <td>0</td>\n",
              "    </tr>\n",
              "  </tbody>\n",
              "</table>\n",
              "</div>\n",
              "      <button class=\"colab-df-convert\" onclick=\"convertToInteractive('df-000a6ffd-4c22-4da6-8177-876f53ba2a7a')\"\n",
              "              title=\"Convert this dataframe to an interactive table.\"\n",
              "              style=\"display:none;\">\n",
              "        \n",
              "  <svg xmlns=\"http://www.w3.org/2000/svg\" height=\"24px\"viewBox=\"0 0 24 24\"\n",
              "       width=\"24px\">\n",
              "    <path d=\"M0 0h24v24H0V0z\" fill=\"none\"/>\n",
              "    <path d=\"M18.56 5.44l.94 2.06.94-2.06 2.06-.94-2.06-.94-.94-2.06-.94 2.06-2.06.94zm-11 1L8.5 8.5l.94-2.06 2.06-.94-2.06-.94L8.5 2.5l-.94 2.06-2.06.94zm10 10l.94 2.06.94-2.06 2.06-.94-2.06-.94-.94-2.06-.94 2.06-2.06.94z\"/><path d=\"M17.41 7.96l-1.37-1.37c-.4-.4-.92-.59-1.43-.59-.52 0-1.04.2-1.43.59L10.3 9.45l-7.72 7.72c-.78.78-.78 2.05 0 2.83L4 21.41c.39.39.9.59 1.41.59.51 0 1.02-.2 1.41-.59l7.78-7.78 2.81-2.81c.8-.78.8-2.07 0-2.86zM5.41 20L4 18.59l7.72-7.72 1.47 1.35L5.41 20z\"/>\n",
              "  </svg>\n",
              "      </button>\n",
              "      \n",
              "  <style>\n",
              "    .colab-df-container {\n",
              "      display:flex;\n",
              "      flex-wrap:wrap;\n",
              "      gap: 12px;\n",
              "    }\n",
              "\n",
              "    .colab-df-convert {\n",
              "      background-color: #E8F0FE;\n",
              "      border: none;\n",
              "      border-radius: 50%;\n",
              "      cursor: pointer;\n",
              "      display: none;\n",
              "      fill: #1967D2;\n",
              "      height: 32px;\n",
              "      padding: 0 0 0 0;\n",
              "      width: 32px;\n",
              "    }\n",
              "\n",
              "    .colab-df-convert:hover {\n",
              "      background-color: #E2EBFA;\n",
              "      box-shadow: 0px 1px 2px rgba(60, 64, 67, 0.3), 0px 1px 3px 1px rgba(60, 64, 67, 0.15);\n",
              "      fill: #174EA6;\n",
              "    }\n",
              "\n",
              "    [theme=dark] .colab-df-convert {\n",
              "      background-color: #3B4455;\n",
              "      fill: #D2E3FC;\n",
              "    }\n",
              "\n",
              "    [theme=dark] .colab-df-convert:hover {\n",
              "      background-color: #434B5C;\n",
              "      box-shadow: 0px 1px 3px 1px rgba(0, 0, 0, 0.15);\n",
              "      filter: drop-shadow(0px 1px 2px rgba(0, 0, 0, 0.3));\n",
              "      fill: #FFFFFF;\n",
              "    }\n",
              "  </style>\n",
              "\n",
              "      <script>\n",
              "        const buttonEl =\n",
              "          document.querySelector('#df-000a6ffd-4c22-4da6-8177-876f53ba2a7a button.colab-df-convert');\n",
              "        buttonEl.style.display =\n",
              "          google.colab.kernel.accessAllowed ? 'block' : 'none';\n",
              "\n",
              "        async function convertToInteractive(key) {\n",
              "          const element = document.querySelector('#df-000a6ffd-4c22-4da6-8177-876f53ba2a7a');\n",
              "          const dataTable =\n",
              "            await google.colab.kernel.invokeFunction('convertToInteractive',\n",
              "                                                     [key], {});\n",
              "          if (!dataTable) return;\n",
              "\n",
              "          const docLinkHtml = 'Like what you see? Visit the ' +\n",
              "            '<a target=\"_blank\" href=https://colab.research.google.com/notebooks/data_table.ipynb>data table notebook</a>'\n",
              "            + ' to learn more about interactive tables.';\n",
              "          element.innerHTML = '';\n",
              "          dataTable['output_type'] = 'display_data';\n",
              "          await google.colab.output.renderOutput(dataTable, element);\n",
              "          const docLink = document.createElement('div');\n",
              "          docLink.innerHTML = docLinkHtml;\n",
              "          element.appendChild(docLink);\n",
              "        }\n",
              "      </script>\n",
              "    </div>\n",
              "  </div>\n",
              "  "
            ],
            "text/plain": [
              "     day  ... #activated_type_three_data_packages\n",
              "0  (n)01  ...                                   0\n",
              "1  (n)02  ...                                   0\n",
              "2  (n)03  ...                                   0\n",
              "3  (n)04  ...                                   0\n",
              "4  (n)05  ...                                   0\n",
              "\n",
              "[5 rows x 34 columns]"
            ]
          },
          "metadata": {},
          "execution_count": 1
        }
      ]
    },
    {
      "cell_type": "code",
      "source": [
        "df1 = df[['subscriber_ecid', 'data_usage_volume']]\n",
        "df1.head()"
      ],
      "metadata": {
        "colab": {
          "base_uri": "https://localhost:8080/",
          "height": 206
        },
        "id": "81fTCpUMaKIh",
        "outputId": "a32904b1-3390-4296-a825-f4fdbc502119"
      },
      "execution_count": 2,
      "outputs": [
        {
          "output_type": "execute_result",
          "data": {
            "text/html": [
              "\n",
              "  <div id=\"df-2576ce07-60d9-40e4-b6a2-1b5e5925881a\">\n",
              "    <div class=\"colab-df-container\">\n",
              "      <div>\n",
              "<style scoped>\n",
              "    .dataframe tbody tr th:only-of-type {\n",
              "        vertical-align: middle;\n",
              "    }\n",
              "\n",
              "    .dataframe tbody tr th {\n",
              "        vertical-align: top;\n",
              "    }\n",
              "\n",
              "    .dataframe thead th {\n",
              "        text-align: right;\n",
              "    }\n",
              "</style>\n",
              "<table border=\"1\" class=\"dataframe\">\n",
              "  <thead>\n",
              "    <tr style=\"text-align: right;\">\n",
              "      <th></th>\n",
              "      <th>subscriber_ecid</th>\n",
              "      <th>data_usage_volume</th>\n",
              "    </tr>\n",
              "  </thead>\n",
              "  <tbody>\n",
              "    <tr>\n",
              "      <th>0</th>\n",
              "      <td>-06FoayTOXJ8-</td>\n",
              "      <td>0.072258</td>\n",
              "    </tr>\n",
              "    <tr>\n",
              "      <th>1</th>\n",
              "      <td>-06FoayTOXJ8-</td>\n",
              "      <td>0.049563</td>\n",
              "    </tr>\n",
              "    <tr>\n",
              "      <th>2</th>\n",
              "      <td>-06FoayTOXJ8-</td>\n",
              "      <td>-0.013977</td>\n",
              "    </tr>\n",
              "    <tr>\n",
              "      <th>3</th>\n",
              "      <td>-06FoayTOXJ8-</td>\n",
              "      <td>0.000403</td>\n",
              "    </tr>\n",
              "    <tr>\n",
              "      <th>4</th>\n",
              "      <td>-06FoayTOXJ8-</td>\n",
              "      <td>0.016209</td>\n",
              "    </tr>\n",
              "  </tbody>\n",
              "</table>\n",
              "</div>\n",
              "      <button class=\"colab-df-convert\" onclick=\"convertToInteractive('df-2576ce07-60d9-40e4-b6a2-1b5e5925881a')\"\n",
              "              title=\"Convert this dataframe to an interactive table.\"\n",
              "              style=\"display:none;\">\n",
              "        \n",
              "  <svg xmlns=\"http://www.w3.org/2000/svg\" height=\"24px\"viewBox=\"0 0 24 24\"\n",
              "       width=\"24px\">\n",
              "    <path d=\"M0 0h24v24H0V0z\" fill=\"none\"/>\n",
              "    <path d=\"M18.56 5.44l.94 2.06.94-2.06 2.06-.94-2.06-.94-.94-2.06-.94 2.06-2.06.94zm-11 1L8.5 8.5l.94-2.06 2.06-.94-2.06-.94L8.5 2.5l-.94 2.06-2.06.94zm10 10l.94 2.06.94-2.06 2.06-.94-2.06-.94-.94-2.06-.94 2.06-2.06.94z\"/><path d=\"M17.41 7.96l-1.37-1.37c-.4-.4-.92-.59-1.43-.59-.52 0-1.04.2-1.43.59L10.3 9.45l-7.72 7.72c-.78.78-.78 2.05 0 2.83L4 21.41c.39.39.9.59 1.41.59.51 0 1.02-.2 1.41-.59l7.78-7.78 2.81-2.81c.8-.78.8-2.07 0-2.86zM5.41 20L4 18.59l7.72-7.72 1.47 1.35L5.41 20z\"/>\n",
              "  </svg>\n",
              "      </button>\n",
              "      \n",
              "  <style>\n",
              "    .colab-df-container {\n",
              "      display:flex;\n",
              "      flex-wrap:wrap;\n",
              "      gap: 12px;\n",
              "    }\n",
              "\n",
              "    .colab-df-convert {\n",
              "      background-color: #E8F0FE;\n",
              "      border: none;\n",
              "      border-radius: 50%;\n",
              "      cursor: pointer;\n",
              "      display: none;\n",
              "      fill: #1967D2;\n",
              "      height: 32px;\n",
              "      padding: 0 0 0 0;\n",
              "      width: 32px;\n",
              "    }\n",
              "\n",
              "    .colab-df-convert:hover {\n",
              "      background-color: #E2EBFA;\n",
              "      box-shadow: 0px 1px 2px rgba(60, 64, 67, 0.3), 0px 1px 3px 1px rgba(60, 64, 67, 0.15);\n",
              "      fill: #174EA6;\n",
              "    }\n",
              "\n",
              "    [theme=dark] .colab-df-convert {\n",
              "      background-color: #3B4455;\n",
              "      fill: #D2E3FC;\n",
              "    }\n",
              "\n",
              "    [theme=dark] .colab-df-convert:hover {\n",
              "      background-color: #434B5C;\n",
              "      box-shadow: 0px 1px 3px 1px rgba(0, 0, 0, 0.15);\n",
              "      filter: drop-shadow(0px 1px 2px rgba(0, 0, 0, 0.3));\n",
              "      fill: #FFFFFF;\n",
              "    }\n",
              "  </style>\n",
              "\n",
              "      <script>\n",
              "        const buttonEl =\n",
              "          document.querySelector('#df-2576ce07-60d9-40e4-b6a2-1b5e5925881a button.colab-df-convert');\n",
              "        buttonEl.style.display =\n",
              "          google.colab.kernel.accessAllowed ? 'block' : 'none';\n",
              "\n",
              "        async function convertToInteractive(key) {\n",
              "          const element = document.querySelector('#df-2576ce07-60d9-40e4-b6a2-1b5e5925881a');\n",
              "          const dataTable =\n",
              "            await google.colab.kernel.invokeFunction('convertToInteractive',\n",
              "                                                     [key], {});\n",
              "          if (!dataTable) return;\n",
              "\n",
              "          const docLinkHtml = 'Like what you see? Visit the ' +\n",
              "            '<a target=\"_blank\" href=https://colab.research.google.com/notebooks/data_table.ipynb>data table notebook</a>'\n",
              "            + ' to learn more about interactive tables.';\n",
              "          element.innerHTML = '';\n",
              "          dataTable['output_type'] = 'display_data';\n",
              "          await google.colab.output.renderOutput(dataTable, element);\n",
              "          const docLink = document.createElement('div');\n",
              "          docLink.innerHTML = docLinkHtml;\n",
              "          element.appendChild(docLink);\n",
              "        }\n",
              "      </script>\n",
              "    </div>\n",
              "  </div>\n",
              "  "
            ],
            "text/plain": [
              "  subscriber_ecid  data_usage_volume\n",
              "0   -06FoayTOXJ8-           0.072258\n",
              "1   -06FoayTOXJ8-           0.049563\n",
              "2   -06FoayTOXJ8-          -0.013977\n",
              "3   -06FoayTOXJ8-           0.000403\n",
              "4   -06FoayTOXJ8-           0.016209"
            ]
          },
          "metadata": {},
          "execution_count": 2
        }
      ]
    },
    {
      "cell_type": "markdown",
      "source": [
        "خیلی از مقادیر دیتاست -0.0139766307813943 این هستن و میشه به راحتی اینارو جایگزین کرد"
      ],
      "metadata": {
        "id": "FIbHY88f-RVu"
      }
    },
    {
      "cell_type": "code",
      "source": [
        "unique_sub_id = set(df1['subscriber_ecid'].values)"
      ],
      "metadata": {
        "id": "fiyCu2I9aLYa"
      },
      "execution_count": 3,
      "outputs": []
    },
    {
      "cell_type": "code",
      "source": [
        "len(unique_sub_id)"
      ],
      "metadata": {
        "colab": {
          "base_uri": "https://localhost:8080/"
        },
        "id": "roCLyU7Ra9vX",
        "outputId": "02d28b24-b95d-4864-de2e-2e70b5e5b77f"
      },
      "execution_count": 4,
      "outputs": [
        {
          "output_type": "execute_result",
          "data": {
            "text/plain": [
              "100"
            ]
          },
          "metadata": {},
          "execution_count": 4
        }
      ]
    },
    {
      "cell_type": "markdown",
      "source": [
        "use just sample with 69 element"
      ],
      "metadata": {
        "id": "-nIr2Z0gAeOK"
      }
    },
    {
      "cell_type": "code",
      "source": [
        "import numpy as np\n",
        "data_list = []\n",
        "for sub_id in unique_sub_id:\n",
        "    # print(sub_id)\n",
        "    temp = df1[df1['subscriber_ecid']==sub_id].values\n",
        "    if temp.shape[0] < 69:\n",
        "        print(temp.shape)\n",
        "        print(sub_id)\n",
        "    else:\n",
        "        data_list.append(temp)"
      ],
      "metadata": {
        "id": "pf0OFb_Oc5Ri",
        "colab": {
          "base_uri": "https://localhost:8080/"
        },
        "outputId": "0247599f-be3b-4ad1-fa0d-0277eded5d56"
      },
      "execution_count": 5,
      "outputs": [
        {
          "output_type": "stream",
          "name": "stdout",
          "text": [
            "(67, 2)\n",
            "-XU6p4P-782mp\n",
            "(53, 2)\n",
            "0T7ixhiDdZ8TL\n",
            "(1, 2)\n",
            "37v4v4PPObMC_\n",
            "(61, 2)\n",
            "0o-xDa8uTNBGu\n",
            "(60, 2)\n",
            "-QXHomYaJxYXi\n",
            "(2, 2)\n",
            "28gWxNYMU_2dg\n",
            "(22, 2)\n",
            "-gjfIaG2oxwzj\n",
            "(68, 2)\n",
            "-DgEYYT0gqMqr\n",
            "(18, 2)\n",
            "1EN04BS-9nKgc\n",
            "(1, 2)\n",
            "32ez6CX89v6KZ\n"
          ]
        }
      ]
    },
    {
      "cell_type": "markdown",
      "source": [
        "data plot"
      ],
      "metadata": {
        "id": "CnZL__b1BDU4"
      }
    },
    {
      "cell_type": "code",
      "source": [
        "import matplotlib.pyplot as plt\n",
        "for j in range(len(data_list)) :\n",
        "  one_sample = data_list[j]\n",
        "  y = one_sample[:,1]\n",
        "  x = []\n",
        "\n",
        "  for i in range(len(one_sample[:,1])):\n",
        "    x.append(i)\n",
        "  plt.plot(x,y)\n",
        "\n",
        "plt.show()"
      ],
      "metadata": {
        "colab": {
          "base_uri": "https://localhost:8080/",
          "height": 265
        },
        "id": "htEgvxLzNxFV",
        "outputId": "e3f9f1b1-2249-4b11-f437-4a8de01ecd41"
      },
      "execution_count": 6,
      "outputs": [
        {
          "output_type": "display_data",
          "data": {
            "image/png": "[encoded data removed]",
            "text/plain": [
              "<Figure size 432x288 with 1 Axes>"
            ]
          },
          "metadata": {
            "needs_background": "light"
          }
        }
      ]
    },
    {
      "cell_type": "markdown",
      "source": [
        "# **LSTM Model**"
      ],
      "metadata": {
        "id": "D6lHVlRFC8GS"
      }
    },
    {
      "cell_type": "code",
      "source": [
        "X = []\n",
        "y = []\n",
        "mem_step = 14\n",
        "\n",
        "for item in data_list:\n",
        "  for i in range(mem_step, 69):\n",
        "      X.append(item[i-mem_step:i, 1:2])\n",
        "      # print(item[i-mem_step:i, 1:2])\n",
        "      y.append(item[i, 1:2])\n",
        "\n",
        "X, y = np.array(X), np.array(y)\n",
        "X, y = X.astype('float32'), y.astype('float32')"
      ],
      "metadata": {
        "id": "q9KgyTlo6X1n"
      },
      "execution_count": 27,
      "outputs": []
    },
    {
      "cell_type": "code",
      "source": [
        " from sklearn.model_selection import train_test_split\n",
        " X_train, X_test, y_train, y_test = train_test_split(X, y, test_size=0.2, random_state=42)"
      ],
      "metadata": {
        "id": "UX3AZtLFLiRQ"
      },
      "execution_count": 28,
      "outputs": []
    },
    {
      "cell_type": "code",
      "source": [
        "import tensorflow as tf\n",
        "import pandas as pd\n",
        "import numpy as np\n",
        "from tensorflow import keras\n",
        "import matplotlib.pyplot as plt\n",
        "\n",
        "from keras.models import Sequential\n",
        "from keras.layers import Dense\n",
        "from keras.layers import LSTM\n",
        "from keras.layers import Dropout\n",
        "\n",
        "# check GPU availability\n",
        "print(\"GPU is available :)\" if tf.config.list_physical_devices(\"GPU\") else \"Not available :(\")\n",
        "\n",
        "import warnings\n",
        "warnings.filterwarnings(\"ignore\")"
      ],
      "metadata": {
        "id": "I3Pg1xdd56x8",
        "colab": {
          "base_uri": "https://localhost:8080/"
        },
        "outputId": "1c68238f-d883-4af7-a391-f7b4242b5a77"
      },
      "execution_count": 29,
      "outputs": [
        {
          "output_type": "stream",
          "name": "stdout",
          "text": [
            "GPU is available :)\n"
          ]
        }
      ]
    },
    {
      "cell_type": "code",
      "source": [
        "keras_reg = Sequential()\n",
        "\n",
        "keras_reg.add(LSTM(units = 64, return_sequences = True, input_shape = (X.shape[1], 1)))\n",
        "keras_reg.add(Dropout(0.4))\n",
        "\n",
        "keras_reg.add(LSTM(units = 100, return_sequences = True))\n",
        "keras_reg.add(Dropout(0.4))\n",
        "\n",
        "keras_reg.add(LSTM(units = 100, return_sequences = True))\n",
        "keras_reg.add(Dropout(0.2))\n",
        "\n",
        "keras_reg.add(LSTM(units = 100, return_sequences = True))\n",
        "keras_reg.add(Dropout(0.2))\n",
        "\n",
        "keras_reg.add(LSTM(units = 16))\n",
        "keras_reg.add(Dropout(0.2))\n",
        "\n",
        "# keras_reg.add(Dense(units=32, activation='relu' ))\n",
        "keras_reg.add(Dense(units=16, activation='relu' ))\n",
        "keras_reg.add(Dense(units = 1))\n",
        "keras_reg.compile(optimizer = 'adam',\n",
        "                  loss = 'mean_squared_error',\n",
        "                  metrics='mse')\n",
        "# keras_reg.compile(optimizer = 'rmsprop', loss = 'mean_squared_error')\n",
        "history = keras_reg.fit(X_train, y_train,validation_split=0.2,shuffle=False,epochs = 30,verbose = 1)"
      ],
      "metadata": {
        "id": "s2T66OoKAM3v",
        "colab": {
          "base_uri": "https://localhost:8080/"
        },
        "outputId": "b919d16f-394b-4e44-c051-5b8f29c5f774"
      },
      "execution_count": 30,
      "outputs": [
        {
          "output_type": "stream",
          "name": "stdout",
          "text": [
            "Epoch 1/30\n",
            "99/99 [==============================] - 11s 26ms/step - loss: 14.9379 - mse: 14.9379 - val_loss: 7.4448 - val_mse: 7.4448\n",
            "Epoch 2/30\n",
            "99/99 [==============================] - 1s 9ms/step - loss: 13.7933 - mse: 13.7933 - val_loss: 7.2166 - val_mse: 7.2166\n",
            "Epoch 3/30\n",
            "99/99 [==============================] - 1s 10ms/step - loss: 13.5049 - mse: 13.5049 - val_loss: 6.8964 - val_mse: 6.8964\n",
            "Epoch 4/30\n",
            "99/99 [==============================] - 1s 10ms/step - loss: 13.1317 - mse: 13.1317 - val_loss: 6.5787 - val_mse: 6.5787\n",
            "Epoch 5/30\n",
            "99/99 [==============================] - 1s 10ms/step - loss: 13.1966 - mse: 13.1966 - val_loss: 6.2716 - val_mse: 6.2716\n",
            "Epoch 6/30\n",
            "99/99 [==============================] - 1s 9ms/step - loss: 12.9242 - mse: 12.9242 - val_loss: 6.2460 - val_mse: 6.2460\n",
            "Epoch 7/30\n",
            "99/99 [==============================] - 1s 9ms/step - loss: 12.7096 - mse: 12.7096 - val_loss: 6.1521 - val_mse: 6.1521\n",
            "Epoch 8/30\n",
            "99/99 [==============================] - 1s 9ms/step - loss: 12.7488 - mse: 12.7488 - val_loss: 6.0999 - val_mse: 6.0999\n",
            "Epoch 9/30\n",
            "99/99 [==============================] - 1s 9ms/step - loss: 12.4765 - mse: 12.4765 - val_loss: 6.0703 - val_mse: 6.0703\n",
            "Epoch 10/30\n",
            "99/99 [==============================] - 1s 9ms/step - loss: 12.4480 - mse: 12.4480 - val_loss: 6.1504 - val_mse: 6.1504\n",
            "Epoch 11/30\n",
            "99/99 [==============================] - 1s 9ms/step - loss: 12.5416 - mse: 12.5416 - val_loss: 6.2337 - val_mse: 6.2337\n",
            "Epoch 12/30\n",
            "99/99 [==============================] - 1s 9ms/step - loss: 12.5461 - mse: 12.5461 - val_loss: 6.3180 - val_mse: 6.3180\n",
            "Epoch 13/30\n",
            "99/99 [==============================] - 1s 9ms/step - loss: 12.2372 - mse: 12.2372 - val_loss: 6.2299 - val_mse: 6.2299\n",
            "Epoch 14/30\n",
            "99/99 [==============================] - 1s 9ms/step - loss: 12.2075 - mse: 12.2075 - val_loss: 6.2668 - val_mse: 6.2668\n",
            "Epoch 15/30\n",
            "99/99 [==============================] - 1s 10ms/step - loss: 12.0743 - mse: 12.0743 - val_loss: 6.5809 - val_mse: 6.5809\n",
            "Epoch 16/30\n",
            "99/99 [==============================] - 1s 10ms/step - loss: 12.2129 - mse: 12.2129 - val_loss: 6.2664 - val_mse: 6.2664\n",
            "Epoch 17/30\n",
            "99/99 [==============================] - 1s 10ms/step - loss: 12.0384 - mse: 12.0384 - val_loss: 6.6224 - val_mse: 6.6224\n",
            "Epoch 18/30\n",
            "99/99 [==============================] - 1s 9ms/step - loss: 11.6822 - mse: 11.6822 - val_loss: 6.3222 - val_mse: 6.3222\n",
            "Epoch 19/30\n",
            "99/99 [==============================] - 1s 10ms/step - loss: 11.5743 - mse: 11.5743 - val_loss: 6.4019 - val_mse: 6.4019\n",
            "Epoch 20/30\n",
            "99/99 [==============================] - 1s 10ms/step - loss: 11.6028 - mse: 11.6028 - val_loss: 6.3772 - val_mse: 6.3772\n",
            "Epoch 21/30\n",
            "99/99 [==============================] - 1s 9ms/step - loss: 11.6457 - mse: 11.6457 - val_loss: 6.4466 - val_mse: 6.4466\n",
            "Epoch 22/30\n",
            "99/99 [==============================] - 1s 10ms/step - loss: 11.6334 - mse: 11.6334 - val_loss: 6.5702 - val_mse: 6.5702\n",
            "Epoch 23/30\n",
            "99/99 [==============================] - 1s 9ms/step - loss: 11.1908 - mse: 11.1908 - val_loss: 6.4729 - val_mse: 6.4729\n",
            "Epoch 24/30\n",
            "99/99 [==============================] - 1s 9ms/step - loss: 11.2310 - mse: 11.2310 - val_loss: 7.0172 - val_mse: 7.0172\n",
            "Epoch 25/30\n",
            "99/99 [==============================] - 1s 9ms/step - loss: 12.7425 - mse: 12.7425 - val_loss: 6.4225 - val_mse: 6.4225\n",
            "Epoch 26/30\n",
            "99/99 [==============================] - 1s 10ms/step - loss: 11.9500 - mse: 11.9500 - val_loss: 6.3664 - val_mse: 6.3664\n",
            "Epoch 27/30\n",
            "99/99 [==============================] - 1s 9ms/step - loss: 11.5649 - mse: 11.5649 - val_loss: 6.1386 - val_mse: 6.1386\n",
            "Epoch 28/30\n",
            "99/99 [==============================] - 1s 9ms/step - loss: 12.0629 - mse: 12.0629 - val_loss: 6.5147 - val_mse: 6.5147\n",
            "Epoch 29/30\n",
            "99/99 [==============================] - 1s 9ms/step - loss: 11.0851 - mse: 11.0851 - val_loss: 6.3503 - val_mse: 6.3503\n",
            "Epoch 30/30\n",
            "99/99 [==============================] - 1s 10ms/step - loss: 11.4418 - mse: 11.4418 - val_loss: 6.6792 - val_mse: 6.6792\n"
          ]
        }
      ]
    },
    {
      "cell_type": "code",
      "source": [
        "def plot_loss(history):\n",
        "  fig = plt.figure(figsize=(7,7))\n",
        "  plt.plot(history.history['mse'], label='mse')\n",
        "  plt.plot(history.history['val_mse'], label='val_mse')\n",
        "  plt.xlabel('Epoch')\n",
        "  plt.ylabel('Error')\n",
        "  plt.legend()\n",
        "  plt.grid(True)\n",
        "\n",
        "plot_loss(history)\n",
        "\n",
        "predicted_stock_price = keras_reg.predict(X_test)\n",
        "from sklearn.metrics import mean_squared_error\n",
        "print(sqrt(mean_squared_error(y_test, predicted_stock_price)))"
      ],
      "metadata": {
        "id": "RUquDCgc-yp_",
        "colab": {
          "base_uri": "https://localhost:8080/",
          "height": 459
        },
        "outputId": "dc8adcca-7926-4251-fdf8-5020f6f5d9f9"
      },
      "execution_count": 31,
      "outputs": [
        {
          "output_type": "stream",
          "name": "stdout",
          "text": [
            "1.7500717284625205\n"
          ]
        },
        {
          "output_type": "display_data",
          "data": {
            "image/png": "[encoded data removed]",
            "text/plain": [
              "<Figure size 504x504 with 1 Axes>"
            ]
          },
          "metadata": {
            "needs_background": "light"
          }
        }
      ]
    }
  ]
}